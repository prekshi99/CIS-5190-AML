{
  "cells": [
    {
      "cell_type": "code",
      "execution_count": null,
      "metadata": {
        "id": "8xDzYmQFfaWx"
      },
      "outputs": [],
      "source": [
        "import re\n",
        "import string\n",
        "import zipfile\n",
        "import pandas as pd\n",
        "import numpy as np\n",
        "import nltk\n",
        "import torch\n",
        "import torch.nn.functional as F\n",
        "import copy\n",
        "import gc\n",
        "import random\n",
        "import sys\n",
        "import xgboost as xgb\n",
        "import matplotlib.pyplot as plt\n",
        "\n",
        "from nltk.corpus import stopwords\n",
        "from nltk.tokenize import word_tokenize\n",
        "from nltk.stem import WordNetLemmatizer\n",
        "from bs4 import BeautifulSoup\n",
        "\n",
        "from sklearn.linear_model import LogisticRegression\n",
        "from sklearn.feature_extraction.text import TfidfVectorizer\n",
        "from sklearn.model_selection import train_test_split\n",
        "from sklearn.metrics import classification_report, accuracy_score, f1_score, log_loss\n",
        "from sklearn.decomposition import PCA"
      ]
    },
    {
      "cell_type": "code",
      "source": [
        "seed = 42\n",
        "torch.manual_seed(seed)\n",
        "np.random.seed(seed)\n",
        "random.seed(seed)"
      ],
      "metadata": {
        "id": "ZqzH3-8Mqqvc"
      },
      "execution_count": null,
      "outputs": []
    },
    {
      "cell_type": "code",
      "execution_count": null,
      "metadata": {
        "colab": {
          "base_uri": "https://localhost:8080/"
        },
        "id": "bA2gSEBJgy0L",
        "outputId": "20d69ced-0e14-4979-e953-6a5021fd3e55"
      },
      "outputs": [
        {
          "output_type": "stream",
          "name": "stderr",
          "text": [
            "[nltk_data] Downloading package stopwords to /root/nltk_data...\n",
            "[nltk_data]   Package stopwords is already up-to-date!\n",
            "[nltk_data] Downloading package punkt to /root/nltk_data...\n",
            "[nltk_data]   Package punkt is already up-to-date!\n",
            "[nltk_data] Downloading package wordnet to /root/nltk_data...\n",
            "[nltk_data]   Package wordnet is already up-to-date!\n"
          ]
        },
        {
          "output_type": "execute_result",
          "data": {
            "text/plain": [
              "True"
            ]
          },
          "metadata": {},
          "execution_count": 43
        }
      ],
      "source": [
        "nltk.download('stopwords')\n",
        "nltk.download('punkt')\n",
        "nltk.download('wordnet')"
      ]
    },
    {
      "cell_type": "code",
      "execution_count": null,
      "metadata": {
        "colab": {
          "base_uri": "https://localhost:8080/"
        },
        "id": "fFBm255pNZZG",
        "outputId": "e2d3867d-d019-46a0-fd81-55e5b88b5e44"
      },
      "outputs": [
        {
          "output_type": "stream",
          "name": "stdout",
          "text": [
            "Requirement already satisfied: kaggle in /usr/local/lib/python3.10/dist-packages (1.5.16)\n",
            "Requirement already satisfied: six>=1.10 in /usr/local/lib/python3.10/dist-packages (from kaggle) (1.16.0)\n",
            "Requirement already satisfied: certifi in /usr/local/lib/python3.10/dist-packages (from kaggle) (2023.7.22)\n",
            "Requirement already satisfied: python-dateutil in /usr/local/lib/python3.10/dist-packages (from kaggle) (2.8.2)\n",
            "Requirement already satisfied: requests in /usr/local/lib/python3.10/dist-packages (from kaggle) (2.31.0)\n",
            "Requirement already satisfied: tqdm in /usr/local/lib/python3.10/dist-packages (from kaggle) (4.66.1)\n",
            "Requirement already satisfied: python-slugify in /usr/local/lib/python3.10/dist-packages (from kaggle) (8.0.1)\n",
            "Requirement already satisfied: urllib3 in /usr/local/lib/python3.10/dist-packages (from kaggle) (2.0.7)\n",
            "Requirement already satisfied: bleach in /usr/local/lib/python3.10/dist-packages (from kaggle) (6.1.0)\n",
            "Requirement already satisfied: webencodings in /usr/local/lib/python3.10/dist-packages (from bleach->kaggle) (0.5.1)\n",
            "Requirement already satisfied: text-unidecode>=1.3 in /usr/local/lib/python3.10/dist-packages (from python-slugify->kaggle) (1.3)\n",
            "Requirement already satisfied: charset-normalizer<4,>=2 in /usr/local/lib/python3.10/dist-packages (from requests->kaggle) (3.3.2)\n",
            "Requirement already satisfied: idna<4,>=2.5 in /usr/local/lib/python3.10/dist-packages (from requests->kaggle) (3.4)\n"
          ]
        }
      ],
      "source": [
        "# IMDB REVIEWS\n",
        "!pip install kaggle"
      ]
    },
    {
      "cell_type": "code",
      "execution_count": null,
      "metadata": {
        "colab": {
          "base_uri": "https://localhost:8080/"
        },
        "id": "YznVxJ00Zoes",
        "outputId": "6f31dedf-7a57-4b01-fe5f-67b45272d16b"
      },
      "outputs": [
        {
          "output_type": "stream",
          "name": "stdout",
          "text": [
            "Mounted at /content/drive\n"
          ]
        }
      ],
      "source": [
        "from google.colab import drive\n",
        "drive.mount('/content/drive')"
      ]
    },
    {
      "cell_type": "code",
      "execution_count": null,
      "metadata": {
        "colab": {
          "base_uri": "https://localhost:8080/"
        },
        "id": "_LdsNz2beOV0",
        "outputId": "ee874881-2ade-4916-fe0d-eb29f329f93f"
      },
      "outputs": [
        {
          "name": "stdout",
          "output_type": "stream",
          "text": [
            "mkdir: cannot create directory ‘/root/.kaggle’: File exists\n",
            "cp: cannot stat '/content/drive/MyDrive/kaggle.json': No such file or directory\n"
          ]
        }
      ],
      "source": [
        "# !mkdir ~/.kaggle\n",
        "# !cp /content/drive/MyDrive/kaggle.json ~/.kaggle/"
      ]
    },
    {
      "cell_type": "code",
      "execution_count": null,
      "metadata": {
        "colab": {
          "base_uri": "https://localhost:8080/"
        },
        "id": "jJ500D7Ud8kR",
        "outputId": "9bcf7051-bb0c-4b24-bea9-cb865b15be29"
      },
      "outputs": [
        {
          "name": "stdout",
          "output_type": "stream",
          "text": [
            "Traceback (most recent call last):\n",
            "  File \"/usr/local/bin/kaggle\", line 5, in <module>\n",
            "    from kaggle.cli import main\n",
            "  File \"/usr/local/lib/python3.10/dist-packages/kaggle/__init__.py\", line 23, in <module>\n",
            "    api.authenticate()\n",
            "  File \"/usr/local/lib/python3.10/dist-packages/kaggle/api/kaggle_api_extended.py\", line 403, in authenticate\n",
            "    raise IOError('Could not find {}. Make sure it\\'s located in'\n",
            "OSError: Could not find kaggle.json. Make sure it's located in /root/.kaggle. Or use the environment method.\n"
          ]
        }
      ],
      "source": [
        "# !kaggle datasets download -d lakshmi25npathi/imdb-dataset-of-50k-movie-reviews"
      ]
    },
    {
      "cell_type": "code",
      "execution_count": null,
      "metadata": {
        "colab": {
          "base_uri": "https://localhost:8080/"
        },
        "id": "Gm-bRrCle4MK",
        "outputId": "fcfdf102-8b2e-4452-9c1a-faac94fc6dd2"
      },
      "outputs": [
        {
          "output_type": "stream",
          "name": "stdout",
          "text": [
            "Archive:  /content/drive/MyDrive/Applied Machine Learning/Project Milestone 2/IMDB Dataset.csv.zip\n",
            "replace IMDB Dataset.csv? [y]es, [n]o, [A]ll, [N]one, [r]ename: A\n",
            "  inflating: IMDB Dataset.csv        \n"
          ]
        }
      ],
      "source": [
        "!unzip \"/content/drive/MyDrive/Applied Machine Learning/Project Milestone 2/IMDB Dataset.csv.zip\""
      ]
    },
    {
      "cell_type": "code",
      "execution_count": null,
      "metadata": {
        "id": "1tMi5eazfE0S"
      },
      "outputs": [],
      "source": [
        "reviews_df = pd.read_csv('/content/IMDB Dataset.csv')"
      ]
    },
    {
      "cell_type": "code",
      "execution_count": null,
      "metadata": {
        "colab": {
          "base_uri": "https://localhost:8080/",
          "height": 423
        },
        "id": "0YVonbRffXxB",
        "outputId": "77c4a5d2-9422-4a1a-c7ed-9ae7581952d1"
      },
      "outputs": [
        {
          "output_type": "execute_result",
          "data": {
            "text/plain": [
              "                                                  review sentiment\n",
              "0      One of the other reviewers has mentioned that ...  positive\n",
              "1      A wonderful little production. <br /><br />The...  positive\n",
              "2      I thought this was a wonderful way to spend ti...  positive\n",
              "3      Basically there's a family where a little boy ...  negative\n",
              "4      Petter Mattei's \"Love in the Time of Money\" is...  positive\n",
              "...                                                  ...       ...\n",
              "49995  I thought this movie did a down right good job...  positive\n",
              "49996  Bad plot, bad dialogue, bad acting, idiotic di...  negative\n",
              "49997  I am a Catholic taught in parochial elementary...  negative\n",
              "49998  I'm going to have to disagree with the previou...  negative\n",
              "49999  No one expects the Star Trek movies to be high...  negative\n",
              "\n",
              "[50000 rows x 2 columns]"
            ],
            "text/html": [
              "\n",
              "  <div id=\"df-57aa043e-b6c3-4e55-a7b2-d1361a1223e0\" class=\"colab-df-container\">\n",
              "    <div>\n",
              "<style scoped>\n",
              "    .dataframe tbody tr th:only-of-type {\n",
              "        vertical-align: middle;\n",
              "    }\n",
              "\n",
              "    .dataframe tbody tr th {\n",
              "        vertical-align: top;\n",
              "    }\n",
              "\n",
              "    .dataframe thead th {\n",
              "        text-align: right;\n",
              "    }\n",
              "</style>\n",
              "<table border=\"1\" class=\"dataframe\">\n",
              "  <thead>\n",
              "    <tr style=\"text-align: right;\">\n",
              "      <th></th>\n",
              "      <th>review</th>\n",
              "      <th>sentiment</th>\n",
              "    </tr>\n",
              "  </thead>\n",
              "  <tbody>\n",
              "    <tr>\n",
              "      <th>0</th>\n",
              "      <td>One of the other reviewers has mentioned that ...</td>\n",
              "      <td>positive</td>\n",
              "    </tr>\n",
              "    <tr>\n",
              "      <th>1</th>\n",
              "      <td>A wonderful little production. &lt;br /&gt;&lt;br /&gt;The...</td>\n",
              "      <td>positive</td>\n",
              "    </tr>\n",
              "    <tr>\n",
              "      <th>2</th>\n",
              "      <td>I thought this was a wonderful way to spend ti...</td>\n",
              "      <td>positive</td>\n",
              "    </tr>\n",
              "    <tr>\n",
              "      <th>3</th>\n",
              "      <td>Basically there's a family where a little boy ...</td>\n",
              "      <td>negative</td>\n",
              "    </tr>\n",
              "    <tr>\n",
              "      <th>4</th>\n",
              "      <td>Petter Mattei's \"Love in the Time of Money\" is...</td>\n",
              "      <td>positive</td>\n",
              "    </tr>\n",
              "    <tr>\n",
              "      <th>...</th>\n",
              "      <td>...</td>\n",
              "      <td>...</td>\n",
              "    </tr>\n",
              "    <tr>\n",
              "      <th>49995</th>\n",
              "      <td>I thought this movie did a down right good job...</td>\n",
              "      <td>positive</td>\n",
              "    </tr>\n",
              "    <tr>\n",
              "      <th>49996</th>\n",
              "      <td>Bad plot, bad dialogue, bad acting, idiotic di...</td>\n",
              "      <td>negative</td>\n",
              "    </tr>\n",
              "    <tr>\n",
              "      <th>49997</th>\n",
              "      <td>I am a Catholic taught in parochial elementary...</td>\n",
              "      <td>negative</td>\n",
              "    </tr>\n",
              "    <tr>\n",
              "      <th>49998</th>\n",
              "      <td>I'm going to have to disagree with the previou...</td>\n",
              "      <td>negative</td>\n",
              "    </tr>\n",
              "    <tr>\n",
              "      <th>49999</th>\n",
              "      <td>No one expects the Star Trek movies to be high...</td>\n",
              "      <td>negative</td>\n",
              "    </tr>\n",
              "  </tbody>\n",
              "</table>\n",
              "<p>50000 rows × 2 columns</p>\n",
              "</div>\n",
              "    <div class=\"colab-df-buttons\">\n",
              "\n",
              "  <div class=\"colab-df-container\">\n",
              "    <button class=\"colab-df-convert\" onclick=\"convertToInteractive('df-57aa043e-b6c3-4e55-a7b2-d1361a1223e0')\"\n",
              "            title=\"Convert this dataframe to an interactive table.\"\n",
              "            style=\"display:none;\">\n",
              "\n",
              "  <svg xmlns=\"http://www.w3.org/2000/svg\" height=\"24px\" viewBox=\"0 -960 960 960\">\n",
              "    <path d=\"M120-120v-720h720v720H120Zm60-500h600v-160H180v160Zm220 220h160v-160H400v160Zm0 220h160v-160H400v160ZM180-400h160v-160H180v160Zm440 0h160v-160H620v160ZM180-180h160v-160H180v160Zm440 0h160v-160H620v160Z\"/>\n",
              "  </svg>\n",
              "    </button>\n",
              "\n",
              "  <style>\n",
              "    .colab-df-container {\n",
              "      display:flex;\n",
              "      gap: 12px;\n",
              "    }\n",
              "\n",
              "    .colab-df-convert {\n",
              "      background-color: #E8F0FE;\n",
              "      border: none;\n",
              "      border-radius: 50%;\n",
              "      cursor: pointer;\n",
              "      display: none;\n",
              "      fill: #1967D2;\n",
              "      height: 32px;\n",
              "      padding: 0 0 0 0;\n",
              "      width: 32px;\n",
              "    }\n",
              "\n",
              "    .colab-df-convert:hover {\n",
              "      background-color: #E2EBFA;\n",
              "      box-shadow: 0px 1px 2px rgba(60, 64, 67, 0.3), 0px 1px 3px 1px rgba(60, 64, 67, 0.15);\n",
              "      fill: #174EA6;\n",
              "    }\n",
              "\n",
              "    .colab-df-buttons div {\n",
              "      margin-bottom: 4px;\n",
              "    }\n",
              "\n",
              "    [theme=dark] .colab-df-convert {\n",
              "      background-color: #3B4455;\n",
              "      fill: #D2E3FC;\n",
              "    }\n",
              "\n",
              "    [theme=dark] .colab-df-convert:hover {\n",
              "      background-color: #434B5C;\n",
              "      box-shadow: 0px 1px 3px 1px rgba(0, 0, 0, 0.15);\n",
              "      filter: drop-shadow(0px 1px 2px rgba(0, 0, 0, 0.3));\n",
              "      fill: #FFFFFF;\n",
              "    }\n",
              "  </style>\n",
              "\n",
              "    <script>\n",
              "      const buttonEl =\n",
              "        document.querySelector('#df-57aa043e-b6c3-4e55-a7b2-d1361a1223e0 button.colab-df-convert');\n",
              "      buttonEl.style.display =\n",
              "        google.colab.kernel.accessAllowed ? 'block' : 'none';\n",
              "\n",
              "      async function convertToInteractive(key) {\n",
              "        const element = document.querySelector('#df-57aa043e-b6c3-4e55-a7b2-d1361a1223e0');\n",
              "        const dataTable =\n",
              "          await google.colab.kernel.invokeFunction('convertToInteractive',\n",
              "                                                    [key], {});\n",
              "        if (!dataTable) return;\n",
              "\n",
              "        const docLinkHtml = 'Like what you see? Visit the ' +\n",
              "          '<a target=\"_blank\" href=https://colab.research.google.com/notebooks/data_table.ipynb>data table notebook</a>'\n",
              "          + ' to learn more about interactive tables.';\n",
              "        element.innerHTML = '';\n",
              "        dataTable['output_type'] = 'display_data';\n",
              "        await google.colab.output.renderOutput(dataTable, element);\n",
              "        const docLink = document.createElement('div');\n",
              "        docLink.innerHTML = docLinkHtml;\n",
              "        element.appendChild(docLink);\n",
              "      }\n",
              "    </script>\n",
              "  </div>\n",
              "\n",
              "\n",
              "<div id=\"df-d4b3ff6a-cc0d-4ded-8b77-ca2ea3bcbd75\">\n",
              "  <button class=\"colab-df-quickchart\" onclick=\"quickchart('df-d4b3ff6a-cc0d-4ded-8b77-ca2ea3bcbd75')\"\n",
              "            title=\"Suggest charts\"\n",
              "            style=\"display:none;\">\n",
              "\n",
              "<svg xmlns=\"http://www.w3.org/2000/svg\" height=\"24px\"viewBox=\"0 0 24 24\"\n",
              "     width=\"24px\">\n",
              "    <g>\n",
              "        <path d=\"M19 3H5c-1.1 0-2 .9-2 2v14c0 1.1.9 2 2 2h14c1.1 0 2-.9 2-2V5c0-1.1-.9-2-2-2zM9 17H7v-7h2v7zm4 0h-2V7h2v10zm4 0h-2v-4h2v4z\"/>\n",
              "    </g>\n",
              "</svg>\n",
              "  </button>\n",
              "\n",
              "<style>\n",
              "  .colab-df-quickchart {\n",
              "      --bg-color: #E8F0FE;\n",
              "      --fill-color: #1967D2;\n",
              "      --hover-bg-color: #E2EBFA;\n",
              "      --hover-fill-color: #174EA6;\n",
              "      --disabled-fill-color: #AAA;\n",
              "      --disabled-bg-color: #DDD;\n",
              "  }\n",
              "\n",
              "  [theme=dark] .colab-df-quickchart {\n",
              "      --bg-color: #3B4455;\n",
              "      --fill-color: #D2E3FC;\n",
              "      --hover-bg-color: #434B5C;\n",
              "      --hover-fill-color: #FFFFFF;\n",
              "      --disabled-bg-color: #3B4455;\n",
              "      --disabled-fill-color: #666;\n",
              "  }\n",
              "\n",
              "  .colab-df-quickchart {\n",
              "    background-color: var(--bg-color);\n",
              "    border: none;\n",
              "    border-radius: 50%;\n",
              "    cursor: pointer;\n",
              "    display: none;\n",
              "    fill: var(--fill-color);\n",
              "    height: 32px;\n",
              "    padding: 0;\n",
              "    width: 32px;\n",
              "  }\n",
              "\n",
              "  .colab-df-quickchart:hover {\n",
              "    background-color: var(--hover-bg-color);\n",
              "    box-shadow: 0 1px 2px rgba(60, 64, 67, 0.3), 0 1px 3px 1px rgba(60, 64, 67, 0.15);\n",
              "    fill: var(--button-hover-fill-color);\n",
              "  }\n",
              "\n",
              "  .colab-df-quickchart-complete:disabled,\n",
              "  .colab-df-quickchart-complete:disabled:hover {\n",
              "    background-color: var(--disabled-bg-color);\n",
              "    fill: var(--disabled-fill-color);\n",
              "    box-shadow: none;\n",
              "  }\n",
              "\n",
              "  .colab-df-spinner {\n",
              "    border: 2px solid var(--fill-color);\n",
              "    border-color: transparent;\n",
              "    border-bottom-color: var(--fill-color);\n",
              "    animation:\n",
              "      spin 1s steps(1) infinite;\n",
              "  }\n",
              "\n",
              "  @keyframes spin {\n",
              "    0% {\n",
              "      border-color: transparent;\n",
              "      border-bottom-color: var(--fill-color);\n",
              "      border-left-color: var(--fill-color);\n",
              "    }\n",
              "    20% {\n",
              "      border-color: transparent;\n",
              "      border-left-color: var(--fill-color);\n",
              "      border-top-color: var(--fill-color);\n",
              "    }\n",
              "    30% {\n",
              "      border-color: transparent;\n",
              "      border-left-color: var(--fill-color);\n",
              "      border-top-color: var(--fill-color);\n",
              "      border-right-color: var(--fill-color);\n",
              "    }\n",
              "    40% {\n",
              "      border-color: transparent;\n",
              "      border-right-color: var(--fill-color);\n",
              "      border-top-color: var(--fill-color);\n",
              "    }\n",
              "    60% {\n",
              "      border-color: transparent;\n",
              "      border-right-color: var(--fill-color);\n",
              "    }\n",
              "    80% {\n",
              "      border-color: transparent;\n",
              "      border-right-color: var(--fill-color);\n",
              "      border-bottom-color: var(--fill-color);\n",
              "    }\n",
              "    90% {\n",
              "      border-color: transparent;\n",
              "      border-bottom-color: var(--fill-color);\n",
              "    }\n",
              "  }\n",
              "</style>\n",
              "\n",
              "  <script>\n",
              "    async function quickchart(key) {\n",
              "      const quickchartButtonEl =\n",
              "        document.querySelector('#' + key + ' button');\n",
              "      quickchartButtonEl.disabled = true;  // To prevent multiple clicks.\n",
              "      quickchartButtonEl.classList.add('colab-df-spinner');\n",
              "      try {\n",
              "        const charts = await google.colab.kernel.invokeFunction(\n",
              "            'suggestCharts', [key], {});\n",
              "      } catch (error) {\n",
              "        console.error('Error during call to suggestCharts:', error);\n",
              "      }\n",
              "      quickchartButtonEl.classList.remove('colab-df-spinner');\n",
              "      quickchartButtonEl.classList.add('colab-df-quickchart-complete');\n",
              "    }\n",
              "    (() => {\n",
              "      let quickchartButtonEl =\n",
              "        document.querySelector('#df-d4b3ff6a-cc0d-4ded-8b77-ca2ea3bcbd75 button');\n",
              "      quickchartButtonEl.style.display =\n",
              "        google.colab.kernel.accessAllowed ? 'block' : 'none';\n",
              "    })();\n",
              "  </script>\n",
              "</div>\n",
              "    </div>\n",
              "  </div>\n"
            ]
          },
          "metadata": {},
          "execution_count": 47
        }
      ],
      "source": [
        "reviews_df"
      ]
    },
    {
      "cell_type": "code",
      "execution_count": null,
      "metadata": {
        "colab": {
          "base_uri": "https://localhost:8080/"
        },
        "id": "0TY_sr0-BMUY",
        "outputId": "96960c99-40f7-40f6-9b90-7966b8b38115"
      },
      "outputs": [
        {
          "output_type": "stream",
          "name": "stdout",
          "text": [
            "6629     H.O.T.S. is proof that at one time, the movie ...\n",
            "13403    I gave this a 10 because it's the best film of...\n",
            "14497    \b\b\b\bA Turkish Bath sequence in a film noir loc...\n",
            "18844    Hello Playmates.I recently watched this film f...\n",
            "Name: review, dtype: object\n",
            "!\"#$%&'()*+,-./:;<=>?@[\\]^_`{|}~\n"
          ]
        }
      ],
      "source": [
        "filtered_reviews = reviews_df[reviews_df['review'].str.contains('Playmates')]\n",
        "print(filtered_reviews['review'])\n",
        "print(string.punctuation)"
      ]
    },
    {
      "cell_type": "markdown",
      "metadata": {
        "id": "GclR8qd7n5uF"
      },
      "source": [
        "**Preprocessing** <br>\n",
        "Cleaning punctuation i.e !\"#$%&'()*+,-./:;<=>?@[\\]^_`{|}~ , non alpha numeric, more than one spaces, trailing spaces, convert to lower case <br>\n",
        "Removal of HTML Tags <br>\n",
        "Removal of Stopwords <br>"
      ]
    },
    {
      "cell_type": "code",
      "execution_count": null,
      "metadata": {
        "id": "_lot_li6flxe"
      },
      "outputs": [],
      "source": [
        "# Preprocessing\n",
        "\n",
        "def clean_string(x):\n",
        "    # remove punctuations\n",
        "    x = ''.join(' ' if char in string.punctuation else char for char in x) # replacing with a space because some reviews have no space after punctuation \"I.like\"\n",
        "    x = re.sub('[^a-zA-Z0-9]', ' ', x) # remove non-alpha numeric\n",
        "    x = re.sub('\\s+', ' ', x) # remove more than one spaces\n",
        "    x = x.lower().strip() # lower case trailing leading spaces\n",
        "    return x\n",
        "\n",
        "def remove_html_tags(x): # using regex misses cases like '&nsbm' or anchor tags like <a title=\">\">, lxml has <p> tag problem\n",
        "  x = BeautifulSoup(x, \"lxml\").text\n",
        "  return x\n",
        "\n",
        "def remove_stopwords(x):\n",
        "    stopwords_set = set(stopwords.words('english'))\n",
        "    words = x.split()\n",
        "    filtered_words = [word for word in words if word.lower() not in stopwords_set]\n",
        "    return ' '.join(filtered_words)\n",
        "\n",
        "def lemmatization(x):\n",
        "  lemmatizer = WordNetLemmatizer()\n",
        "  words = x.split()\n",
        "  lemmatized_words = [lemmatizer.lemmatize(word) for word in words]\n",
        "  lemmatized_sentence = ' '.join(lemmatized_words)\n",
        "  return lemmatized_sentence"
      ]
    },
    {
      "cell_type": "markdown",
      "metadata": {
        "id": "uclffwoKy3Sc"
      },
      "source": [
        "**Tokenization**"
      ]
    },
    {
      "cell_type": "code",
      "execution_count": null,
      "metadata": {
        "colab": {
          "base_uri": "https://localhost:8080/"
        },
        "id": "idDW7yShvHJv",
        "outputId": "d536f52d-8f14-4681-d529-1ddda51af5af"
      },
      "outputs": [
        {
          "output_type": "stream",
          "name": "stderr",
          "text": [
            "<ipython-input-49-1c94d9d519d6>:12: MarkupResemblesLocatorWarning: The input looks more like a filename than markup. You may want to open this file and pass the filehandle into Beautiful Soup.\n",
            "  x = BeautifulSoup(x, \"lxml\").text\n"
          ]
        },
        {
          "output_type": "stream",
          "name": "stdout",
          "text": [
            "                                                  review sentiment\n",
            "49998  going disagree previous comment side maltin on...  negative\n",
            "49999  one expects star trek movie high art fan expec...  negative\n"
          ]
        }
      ],
      "source": [
        "# print(reviews_df)\n",
        "reviews_df_cleaned = reviews_df.copy()\n",
        "reviews_df_cleaned['review'] = reviews_df['review'].apply(remove_html_tags)\n",
        "reviews_df_cleaned['review'] = reviews_df_cleaned['review'].apply(clean_string)\n",
        "reviews_df_cleaned['review'] = reviews_df_cleaned['review'].apply(remove_stopwords)\n",
        "reviews_df_cleaned['review'] = reviews_df_cleaned['review'].apply(lemmatization)\n",
        "print(reviews_df_cleaned.tail(2))"
      ]
    },
    {
      "cell_type": "markdown",
      "metadata": {
        "id": "YX__Zj8ACcb5"
      },
      "source": [
        "**One Hot Encoding for the labels**"
      ]
    },
    {
      "cell_type": "code",
      "execution_count": null,
      "metadata": {
        "id": "cf9Qx3pGgZ0X"
      },
      "outputs": [],
      "source": [
        "def sentiment_to_integer(x):\n",
        "    if x == 'positive':\n",
        "        return 1\n",
        "    elif x == 'negative':\n",
        "        return 0"
      ]
    },
    {
      "cell_type": "markdown",
      "metadata": {
        "id": "t76isMzkoo49"
      },
      "source": [
        "**Training and Testing Split**"
      ]
    },
    {
      "cell_type": "code",
      "execution_count": null,
      "metadata": {
        "colab": {
          "base_uri": "https://localhost:8080/"
        },
        "id": "2m6zWdUVSATI",
        "outputId": "9c1c629e-e65a-4474-e991-8a66d2e85e84"
      },
      "outputs": [
        {
          "output_type": "stream",
          "name": "stdout",
          "text": [
            "                                                  review  sentiment\n",
            "0      one reviewer mentioned watching 1 oz episode h...          1\n",
            "1      wonderful little production filming technique ...          1\n",
            "2      thought wonderful way spend time hot summer we...          1\n",
            "3      basically family little boy jake think zombie ...          0\n",
            "4      petter mattei love time money visually stunnin...          1\n",
            "...                                                  ...        ...\n",
            "49995  thought movie right good job creative original...          1\n",
            "49996  bad plot bad dialogue bad acting idiotic direc...          0\n",
            "49997  catholic taught parochial elementary school nu...          0\n",
            "49998  going disagree previous comment side maltin on...          0\n",
            "49999  one expects star trek movie high art fan expec...          0\n",
            "\n",
            "[50000 rows x 2 columns]\n",
            "25000\n"
          ]
        },
        {
          "output_type": "execute_result",
          "data": {
            "text/plain": [
              "25000"
            ]
          },
          "metadata": {},
          "execution_count": 52
        }
      ],
      "source": [
        "reviews_df_cleaned['sentiment'] = reviews_df_cleaned['sentiment'].apply(sentiment_to_integer)\n",
        "print(reviews_df_cleaned)\n",
        "positive_reviews_count = reviews_df_cleaned[reviews_df_cleaned['sentiment'] == 1]['review'].count()\n",
        "print(positive_reviews_count)\n",
        "negative_reviews_count = reviews_df[reviews_df_cleaned['sentiment'] == 0]['review'].count()\n",
        "negative_reviews_count"
      ]
    },
    {
      "cell_type": "code",
      "execution_count": null,
      "metadata": {
        "id": "iSEH_GfmqN3q"
      },
      "outputs": [],
      "source": [
        "# spliting the data into training set and combined val and test set\n",
        "X_train, X_combined_test, y_train, y_combined_test = train_test_split(reviews_df_cleaned['review'], reviews_df_cleaned['sentiment'], train_size=0.75, test_size=0.25, random_state=42)\n",
        "\n",
        "# splitting the combined set into separate validation and test sets\n",
        "X_val, X_test, y_val, y_test = train_test_split(X_combined_test, y_combined_test, test_size=0.5, random_state=42)"
      ]
    },
    {
      "cell_type": "code",
      "execution_count": null,
      "metadata": {
        "colab": {
          "base_uri": "https://localhost:8080/"
        },
        "id": "b2ULSbKvqndV",
        "outputId": "6a5b5cec-d420-4495-8d72-bf1e64f5d213"
      },
      "outputs": [
        {
          "output_type": "stream",
          "name": "stdout",
          "text": [
            "<class 'list'>\n"
          ]
        },
        {
          "output_type": "execute_result",
          "data": {
            "text/plain": [
              "(37500,)"
            ]
          },
          "metadata": {},
          "execution_count": 54
        }
      ],
      "source": [
        "X_train_list = X_train.tolist()\n",
        "print(type(X_train_list))\n",
        "X_train_list[100]\n",
        "X_test_list = X_test.tolist()\n",
        "X_train.shape"
      ]
    },
    {
      "cell_type": "code",
      "execution_count": null,
      "metadata": {
        "colab": {
          "base_uri": "https://localhost:8080/"
        },
        "id": "0b0IGdF1qoiL",
        "outputId": "76aab97e-06b3-4565-f6fa-d9eb9a76c8ff"
      },
      "outputs": [
        {
          "output_type": "stream",
          "name": "stdout",
          "text": [
            "(6250,)\n"
          ]
        },
        {
          "output_type": "execute_result",
          "data": {
            "text/plain": [
              "(6250,)"
            ]
          },
          "metadata": {},
          "execution_count": 55
        }
      ],
      "source": [
        "X_test.shape\n",
        "print(X_val.shape)\n",
        "y_test.shape"
      ]
    },
    {
      "cell_type": "code",
      "execution_count": null,
      "metadata": {
        "colab": {
          "base_uri": "https://localhost:8080/"
        },
        "id": "RnTIx2b2qrGx",
        "outputId": "b72a2ea3-d9ac-4476-f1db-3c8d4909de1f"
      },
      "outputs": [
        {
          "output_type": "stream",
          "name": "stdout",
          "text": [
            "['kind movie want good suck first thing hell punk trying school think kid seem realize gravity situation deker guy say girl responsibility ask want go back right give gun wheel chair dude want go alone repair phone line responsibility understand poor actor must pay food give money take make stupid movie like give money charity oh yea none know aim stupid punk guy shoot cafeteria nowhere like crazy want look professional suck one thing believe emergency exit school kid trying several door locked happens fire dumas security guard dead illegal emergency exit school anyway lot say would long spent time life watch crap', 'far worst movie ever seen thats compared alexander fortress 2 new world go back blockbuster ask money back along compensation truly traumatic experience first ten minute changing zoom widescreen tv actor seemed screen think possible make bad film day age wrong typing message thought good reason buy movie joke present xmas blaming mr one picked thanks babe warned true shocker round', 'awful awful awful loved original film funny charming heart piece junk none thing reused joke original film stupid plot bad animation different voice exception kronk yzma sound nothing like one original especially pacha shudder character model animation flat boring bad job around kuzco jerk thought reformed since tv spin offs loyal original roll eye sorry nothing redeemable avoid cost', 'fragile carne great period although sometimes hesitantly directed marred longueur hotel du nord full faded charm beauty typical french film late 1930s well relative lightness touch unusual director great virtue cramped interior broken gliding complex delicious camera movement melancholy deployment light shade remarkable wistful set alexander trauner evocative title suggests take shaping personality quietly mournful music maurice jaubert seemingly casual plot romance tragedy fatalism cast noose character extraordinary performance greatest player time case louis jouvet arletty fact film biggest failing find astonished someone usually didactically minimises importance admit script plenty wit poignancy without poetry irony regular carne collaborator jacques prevert brought best film cannot avoid slipping cliche even cliche hindsight ostensibly set boarding house film set opening idea community two interconnecting tale doomed love emotional metaphysical actual isolation doomed love scenario one work least well annabella beautiful good tragic aumont callowness brilliantly appropriate though may nature obtrudes real felt romance maybe find hard sympathise couple young attractive month racked despair shoot high flown line rather embarrassing course affair meant plausible symbolic youth hope possibility crushed france maybe france despairing resigned waiting death symbol truly powerful must convince narrative level feel quite save plot connection story edmond character linked great tradition french gangster although learn gradually killer hiding living prostitute played arletty dobbed accomplice previous role theatricality position crucial one set trait hiding assumed complete opposite living rather aimless life profoundly shaken lover pact becomes fatalistic realising folly trying cheat death way admission one le person collection sign death unavoidable reality powerful masculinity must succumb edmond like romantic prototype melville clinical killer one exception give briefly hope delusion strenghtens much unbearable irony fatal resolve could trite truly amazing performance louis jouvet studied theatrical work college first taste screen talent reveals worthy great grant mastroianni clift mason mitchum cotten giving quiet nobility role conception needle say allegorical actual person edmond begin film minor supporting character emerges tragic hero force like major actor jouvet brilliance lie conceals formal level amazes carne grasping ten year flourishing technique great hollywood melodrama sirk ophuls ray minnelli although theatricality lack fluidity clear eyed beauty sierck contemporary german melodrama check masterpiece zu neuen ufern la habenera carne style truly fit theme entrapment paralysis resignation film principle motif water credit float dissolve hotel stand waterway instead renoir open river possibility canal stagnant manmade going nowhere film begin end setting never change except one brief interlude escapee doomed return character escape death entrapment emphasised narrow room occupy wall frame hold captive window look escape never achieve hope end therefore profoundly romantically compromised', 'one time favorite cheap corny vampire b movie calvin klein underwear model oh mean stefan good vampire return transylvania ascend throne vampiric royalty manicure impaired eternally drooling half brother radu plan killed father vampire king radu set sight stefan stefan new mortal girlfriend michelle two pretty friend powerful bloodstone okay scenery beautiful shot location transyl fricken vania gosh sake actress great shake stefan heroic vampire charming refrigerated fireplace poker care one reason watch movie name radu physical homage nosferatu best line movie spoken raspy voice man smoke ten pack cigarette day cemetery festival scene one best scene film radu slowly approach camera reveals grinning slobbering face world see found cheering collected victim taunted perfect brother maybe sicko questionable taste men aside highly recommend film vampire enthusiast original fun radu one best vampire seen long time much fun stiff tragic whining undead brat endlessly grace horror screen day radu enjoys sadism never apologizes vampire', 'hawked offensive movie ever guaranteed offend everyone guess worked offended shelled money rent two friend bored decided see bull movie saw tv true curse comedy central network pushed garbage u far worst movie seen since hollow man generally avoid crappy one got sucked one since beaten prick suggest rent movie picking privilege revoked nothing remotely funny movie even adventure dickman scene sophomoric best color p ed thought maybe production value crap important reason sucked never watch reason whatsoever even copious amount illegal substance would movie funny saying alot please love holy cherish sanity never view movie many thing stupid pointless worthless name main thing aiming offensively funny failed miserably crash burn', 'production value video poor unwatchable performance took second place overwhelmingly creative hijinks studio wank thirty special effect per minute filmed cloud smoke one two second duration per shot frequently background spotlight shine directly camera lighting terrible filming constant zooming total lack visual continuity may good dancing available live audience video viewer never know', 'late running short vocabulary describe film beautiful heartbreaking begging forgiveness cringe cliche robin tunney amazing job portraying young woman clutch tourette syndrome character absolutely sincere convincing follow career wherever go film', 'saw movie 12 came recall scariest scene big bird eating men dangling helplessly parachute right air horror horror young kid going cheesy b film saturday afternoon still tired formula monster type movie usually included hero beautiful woman might daughter professor happy resolution monster died end care much romantic angle 12 year old predictable plot love unintentional humor year later saw psycho came loved star janet leigh bumped early film sat took notice point since screenwriter making story make scary possible well worn formula rule']\n"
          ]
        }
      ],
      "source": [
        "print(X_train.tolist()[1:10])"
      ]
    },
    {
      "cell_type": "code",
      "execution_count": null,
      "metadata": {
        "colab": {
          "base_uri": "https://localhost:8080/"
        },
        "id": "9TUK3OkCquT4",
        "outputId": "d9704780-6a0b-4829-edb4-e16918d8251c"
      },
      "outputs": [
        {
          "output_type": "stream",
          "name": "stdout",
          "text": [
            "(37500,)\n"
          ]
        },
        {
          "output_type": "execute_result",
          "data": {
            "text/plain": [
              "(6250,)"
            ]
          },
          "metadata": {},
          "execution_count": 57
        }
      ],
      "source": [
        "print(y_train.shape)\n",
        "y_test.shape"
      ]
    },
    {
      "cell_type": "markdown",
      "metadata": {
        "id": "UR4yZEj1Gg_U"
      },
      "source": [
        "**TFIDF MODEL**"
      ]
    },
    {
      "cell_type": "code",
      "execution_count": null,
      "metadata": {
        "id": "t9au4KxEGfiU",
        "colab": {
          "base_uri": "https://localhost:8080/"
        },
        "outputId": "6b1408e8-22c9-4a46-c753-5362ca98927a"
      },
      "outputs": [
        {
          "output_type": "stream",
          "name": "stdout",
          "text": [
            "00 hour mark\n"
          ]
        }
      ],
      "source": [
        "# https://scikit-learn.org/stable/modules/generated/sklearn.feature_extraction.text.TfidfVectorizer.html\n",
        "tfidf = TfidfVectorizer(min_df=0, max_df=1, use_idf=True, ngram_range=(1,3))\n",
        "\n",
        "tfidf_X_train = tfidf.fit_transform(X_train_list)\n",
        "tfidf_X_val = tfidf.transform(X_val.tolist())\n",
        "tfidf_X_test = tfidf.transform(X_test.tolist())\n",
        "\n",
        "feature_names = tfidf.get_feature_names_out()\n",
        "# print(tfidf_X_train[0])\n",
        "print(feature_names[100])"
      ]
    },
    {
      "cell_type": "code",
      "execution_count": null,
      "metadata": {
        "colab": {
          "background_save": true
        },
        "id": "PcV-60Y8qwsz",
        "outputId": "a6cf7342-f2f2-45a5-9d83-287960a2d64d"
      },
      "outputs": [
        {
          "name": "stdout",
          "output_type": "stream",
          "text": [
            "['00 01' '00 01 percent' '00 10' ...\n",
            " 'zzzzzzzzzzzzzzzzzzzzzzzzzzzzzzz ooops'\n",
            " 'zzzzzzzzzzzzzzzzzzzzzzzzzzzzzzz ooops sorry'\n",
            " 'zzzzzzzzzzzzzzzzzzzzzzzzzzzzzzzzzzzzzzzzzzzz']\n",
            "(37500, 5807919)\n",
            "<class 'scipy.sparse._csr.csr_matrix'>\n"
          ]
        },
        {
          "data": {
            "text/plain": [
              "(6250, 5807919)"
            ]
          },
          "execution_count": 29,
          "metadata": {},
          "output_type": "execute_result"
        }
      ],
      "source": [
        "# print(tfidf_X_train[0])\n",
        "# print(feature_names)\n",
        "# print(tfidf_X_train.shape)  # no of samples, features extracted\n",
        "# print(type(tfidf_X_train))\n",
        "# tfidf_X_test.shape"
      ]
    },
    {
      "cell_type": "code",
      "execution_count": null,
      "metadata": {
        "colab": {
          "base_uri": "https://localhost:8080/"
        },
        "id": "QnNUEPu-4yKR",
        "outputId": "e3807517-d04e-45df-d809-188ba3382b1d"
      },
      "outputs": [
        {
          "output_type": "stream",
          "name": "stdout",
          "text": [
            "Validation accuracy: 0.73232\n",
            "Test accuracy: 0.74\n"
          ]
        }
      ],
      "source": [
        "# Trying in-built model\n",
        "\n",
        "model = LogisticRegression(penalty='l2', max_iter=1000, C=1, random_state=42)\n",
        "\n",
        "model_tfidf = model.fit(tfidf_X_train, y_train)\n",
        "\n",
        "model_tfidf_val_predict = model.predict(tfidf_X_val)\n",
        "val_accuracy_score = accuracy_score(y_val, model_tfidf_val_predict)\n",
        "print(\"Validation accuracy:\", val_accuracy_score)\n",
        "\n",
        "model_tfidf_test_predict = model.predict(tfidf_X_test)\n",
        "test_accuracy_score = accuracy_score(y_test, model_tfidf_test_predict)\n",
        "print(\"Test accuracy:\", test_accuracy_score)"
      ]
    },
    {
      "cell_type": "code",
      "execution_count": null,
      "metadata": {
        "id": "YX38Xs91TlyJ",
        "colab": {
          "base_uri": "https://localhost:8080/"
        },
        "outputId": "25c848d9-58c2-482c-bdbe-77540bb16ff5"
      },
      "outputs": [
        {
          "output_type": "stream",
          "name": "stdout",
          "text": [
            "Archive:  /content/drive/MyDrive/Applied Machine Learning/Project Milestone 2/glove.6B.50d.txt.zip\n",
            "  inflating: glove.6B.50d.txt        \n"
          ]
        }
      ],
      "source": [
        "!unzip \"/content/drive/MyDrive/Applied Machine Learning/Project Milestone 2/glove.6B.50d.txt.zip\""
      ]
    },
    {
      "cell_type": "code",
      "source": [
        "embeddings = list()\n",
        "word_ids = dict()\n",
        "ids_words = dict()\n",
        "with open(\"/content/glove.6B.50d.txt\", \"r\") as f:\n",
        "  cnt = 0\n",
        "  while True:\n",
        "    row = f.readline()\n",
        "    if not row:\n",
        "      break\n",
        "    row = row.split()\n",
        "    embeddings.append([float(x) for x in row[1:]])\n",
        "    word_ids[row[0]] = cnt\n",
        "    ids_words[cnt] = row[0]\n",
        "    cnt += 1\n",
        "#creating the pad token used to pad sentences in dataset shift\n",
        "embeddings.append([0.0 for x in range(50)])\n",
        "word_ids['<PAD>'] = cnt\n",
        "ids_words[cnt] = '<PAD>'\n",
        "embeddings = np.array(embeddings)"
      ],
      "metadata": {
        "id": "VsTnttJfMCXt"
      },
      "execution_count": null,
      "outputs": []
    },
    {
      "cell_type": "code",
      "source": [
        "embeddings.shape"
      ],
      "metadata": {
        "colab": {
          "base_uri": "https://localhost:8080/"
        },
        "id": "m0UtDon1NWDT",
        "outputId": "0eb4f652-4ccc-4bdb-9291-758342cab5b7"
      },
      "execution_count": null,
      "outputs": [
        {
          "output_type": "execute_result",
          "data": {
            "text/plain": [
              "(400001, 50)"
            ]
          },
          "metadata": {},
          "execution_count": 59
        }
      ]
    },
    {
      "cell_type": "code",
      "source": [
        "print(len(word_ids), len(ids_words))"
      ],
      "metadata": {
        "colab": {
          "base_uri": "https://localhost:8080/"
        },
        "id": "8_Fo_yZbNlDw",
        "outputId": "e18700d4-1556-469d-b0e5-14c5c17bb232"
      },
      "execution_count": null,
      "outputs": [
        {
          "output_type": "stream",
          "name": "stdout",
          "text": [
            "400001 400001\n"
          ]
        }
      ]
    },
    {
      "cell_type": "code",
      "source": [
        "embeddings = torch.Tensor(embeddings)"
      ],
      "metadata": {
        "id": "WyuwcmlEOQQq"
      },
      "execution_count": null,
      "outputs": []
    },
    {
      "cell_type": "code",
      "source": [
        "embeddings"
      ],
      "metadata": {
        "colab": {
          "base_uri": "https://localhost:8080/"
        },
        "id": "RRk4so6yOdWN",
        "outputId": "e414f99f-7b3d-48d8-df18-510af54fd3e3"
      },
      "execution_count": null,
      "outputs": [
        {
          "output_type": "execute_result",
          "data": {
            "text/plain": [
              "tensor([[ 0.4180,  0.2497, -0.4124,  ..., -0.1841, -0.1151, -0.7858],\n",
              "        [ 0.0134,  0.2368, -0.1690,  ..., -0.5666,  0.0447,  0.3039],\n",
              "        [ 0.1516,  0.3018, -0.1676,  ..., -0.3565,  0.0164,  0.1022],\n",
              "        ...,\n",
              "        [-0.7590, -0.4743,  0.4737,  ...,  0.7895, -0.0141,  0.6448],\n",
              "        [ 0.0726, -0.5139,  0.4728,  ..., -0.1891, -0.5902,  0.5556],\n",
              "        [ 0.0000,  0.0000,  0.0000,  ...,  0.0000,  0.0000,  0.0000]])"
            ]
          },
          "metadata": {},
          "execution_count": 62
        }
      ]
    },
    {
      "cell_type": "code",
      "source": [
        "# embedding = torch.nn.Embedding.from_pretrained(embeddings, False)"
      ],
      "metadata": {
        "id": "TDn05djsN4eU"
      },
      "execution_count": null,
      "outputs": []
    },
    {
      "cell_type": "code",
      "source": [
        "# embedding"
      ],
      "metadata": {
        "id": "lH9TzdjtOgxO"
      },
      "execution_count": null,
      "outputs": []
    },
    {
      "cell_type": "code",
      "source": [
        "'''\n",
        "\n",
        "Here we consider two methods of feature extraction(We are not fine tuning the Embeddings):\n",
        "a) Embeddings (Average embeddings for words in a document)\n",
        "b) Embeddings (Concatenate embeddings for words in a document) + PCA(to speed up computation and even obtain better speed)\n",
        "We need to consider the following model:\n",
        "a) AdaBoost (3 different learning rates, 3 different regularization parameters, 3 different iterations, 2 different optimizers(with standart suggested values for hyperparameters))\n",
        "We need to consider three dataset shifts:\n",
        "a) short sentences (sentences of mean - (1/3)sd length)\n",
        "b) long sentences (sentences of mean + (1/3)sd length)\n",
        "\n",
        "Total possibilities:- 2 x 3x3x3x2 x 2 = 4 x (56) = 216 different models to train.\n",
        "\n",
        "Out of the models trained select top 10 models according to validation accuracy.\n",
        "\n",
        "Test them on test accuracy and return the results. Also, see whether the validation accuracy of the selected models correspond to the test accuracy too.\n",
        "Also, provide the justification as to why we believe the selected model is intuitively good at the task.\n",
        "\n",
        "For this we need to create 4 datasets in total.\n",
        "\n",
        "\n",
        "TODO:\n",
        "\n",
        "1) Create a function that applies the required dataset shift to the dataset and returns the new dataset. -- DONE\n",
        "2) Create a function that applies feature extraction. -- DONE. (store in gdrive as creating features takes time)\n",
        "3) Create the AdaBoost model in pytorch. -- Done\n",
        "4) Setup the training possibilities. /// creating 3 arrays no regularization, learning rate [.1,.01,.001], epoch [5, 25, 50]\n",
        "5) Train and store models for each possibility(maybe using pickle).\n",
        "6) Create a function that loads the models, evaluates them on the validation set.\n",
        "7) Select the 10 best models based on validation f1-score.\n",
        "8) Test on test data.\n",
        "9) Write the report. // we will all write it\n",
        "\n",
        "'''"
      ],
      "metadata": {
        "id": "OucWczXvOjOS",
        "colab": {
          "base_uri": "https://localhost:8080/",
          "height": 157
        },
        "outputId": "f6c6d86e-330c-4f92-f987-388b1a6e9bca"
      },
      "execution_count": null,
      "outputs": [
        {
          "output_type": "execute_result",
          "data": {
            "text/plain": [
              "'\\n\\nHere we consider two methods of feature extraction(We are not fine tuning the Embeddings):\\na) Embeddings (Average embeddings for words in a document)\\nb) Embeddings (Concatenate embeddings for words in a document) + PCA(to speed up computation and even obtain better speed)\\nWe need to consider the following model:\\na) AdaBoost (3 different learning rates, 3 different regularization parameters, 3 different iterations, 2 different optimizers(with standart suggested values for hyperparameters))\\nWe need to consider three dataset shifts:\\na) short sentences (sentences of mean - (1/3)sd length)\\nb) long sentences (sentences of mean + (1/3)sd length)\\n\\nTotal possibilities:- 2 x 3x3x3x2 x 2 = 4 x (56) = 216 different models to train.\\n\\nOut of the models trained select top 10 models according to validation accuracy.\\n\\nTest them on test accuracy and return the results. Also, see whether the validation accuracy of the selected models correspond to the test accuracy too.\\nAlso, provide the justification as to why we believe the selected model is intuitively good at the task.\\n\\nFor this we need to create 4 datasets in total.\\n\\n\\nTODO:\\n\\n1) Create a function that applies the required dataset shift to the dataset and returns the new dataset. -- DONE\\n2) Create a function that applies feature extraction. -- DONE. (store in gdrive as creating features takes time)\\n3) Create the AdaBoost model in pytorch. -- Done\\n4) Setup the training possibilities.\\n5) Train and store models for each possibility.\\n6) Create a function that loads the models, evaluates them on the validation set\\n7) Select the 10 best models\\n8) Test on test data\\n9) Write the Report\\n\\n'"
            ],
            "application/vnd.google.colaboratory.intrinsic+json": {
              "type": "string"
            }
          },
          "metadata": {},
          "execution_count": 467
        }
      ]
    },
    {
      "cell_type": "code",
      "source": [
        "def dataset_shift(X, mean = None, std = None):\n",
        "  lst = list()\n",
        "  for i in range(len(X)):\n",
        "    lst.append(len(X[i].split()))\n",
        "  lst = np.array(lst)\n",
        "  if mean is None:\n",
        "    mean = np.mean(lst)\n",
        "  if std is None:\n",
        "    std = np.std(lst)\n",
        "  len_short = round(mean - 1 / 3 * std)\n",
        "  len_long = round(mean + 1 / 3 * std)\n",
        "  X_short = list()\n",
        "  X_long = list()\n",
        "  for doc in X:\n",
        "    document = doc.split()\n",
        "    if len(document) < len_short:\n",
        "      while len(document) != len_short:\n",
        "        document.append('<PAD>')\n",
        "      X_short.append(document)\n",
        "    else:\n",
        "      X_short.append(document[:len_short])\n",
        "    document = doc.split()\n",
        "    if len(document) < len_long:\n",
        "      while len(document) != len_long:\n",
        "        document.append('<PAD>')\n",
        "      X_long.append(document)\n",
        "    else:\n",
        "      X_long.append(document[:len_long])\n",
        "  return np.array(X_short), np.array(X_long), mean, std"
      ],
      "metadata": {
        "id": "Wg5KZ9NKhfez"
      },
      "execution_count": null,
      "outputs": []
    },
    {
      "cell_type": "code",
      "source": [
        "X_train_S, X_train_L, mean, std = dataset_shift(X_train.to_list())\n",
        "X_val_S, X_val_L, _, _ = dataset_shift(X_val.to_list(), mean, std)\n",
        "X_test_S, X_test_L, _, _ = dataset_shift(X_test.to_list(), mean, std)\n",
        "print(X_train_S.shape, X_train_L.shape)\n",
        "print(X_val_S.shape, X_val_L.shape)\n",
        "print(X_test_S.shape, X_test_L.shape)"
      ],
      "metadata": {
        "colab": {
          "base_uri": "https://localhost:8080/"
        },
        "id": "5E-1KhfzomOA",
        "outputId": "ec7453bd-8027-4237-d554-a5229f39b9ae"
      },
      "execution_count": null,
      "outputs": [
        {
          "output_type": "stream",
          "name": "stdout",
          "text": [
            "(37500, 89) (37500, 150)\n",
            "(6250, 89) (6250, 150)\n",
            "(6250, 89) (6250, 150)\n"
          ]
        }
      ]
    },
    {
      "cell_type": "code",
      "source": [
        "np.save(\"/content/drive/MyDrive/Applied Machine Learning/Project Milestone 2/X_train_S.npy\", X_train_S)\n",
        "np.save(\"/content/drive/MyDrive/Applied Machine Learning/Project Milestone 2/X_train_L.npy\", X_train_L)\n",
        "np.save(\"/content/drive/MyDrive/Applied Machine Learning/Project Milestone 2/X_val_S.npy\", X_val_S)\n",
        "np.save(\"/content/drive/MyDrive/Applied Machine Learning/Project Milestone 2/X_val_L.npy\", X_val_L)\n",
        "np.save(\"/content/drive/MyDrive/Applied Machine Learning/Project Milestone 2/X_test_S.npy\", X_test_S)\n",
        "np.save(\"/content/drive/MyDrive/Applied Machine Learning/Project Milestone 2/X_test_L.npy\", X_test_L)\n",
        "np.save(\"/content/drive/MyDrive/Applied Machine Learning/Project Milestone 2/y_train.npy\", y_train)\n",
        "np.save(\"/content/drive/MyDrive/Applied Machine Learning/Project Milestone 2/y_val.npy\", y_val)\n",
        "np.save(\"/content/drive/MyDrive/Applied Machine Learning/Project Milestone 2/y_test.npy\", y_test)"
      ],
      "metadata": {
        "id": "D66w6JhMecZq"
      },
      "execution_count": null,
      "outputs": []
    },
    {
      "cell_type": "code",
      "source": [
        "del X_train_L\n",
        "del X_train_S\n",
        "del X_val_L\n",
        "del X_val_S\n",
        "del X_test_L\n",
        "del X_test_S"
      ],
      "metadata": {
        "id": "6w671__Ie8vA"
      },
      "execution_count": null,
      "outputs": []
    },
    {
      "cell_type": "code",
      "source": [
        "gc.collect()"
      ],
      "metadata": {
        "colab": {
          "base_uri": "https://localhost:8080/"
        },
        "id": "r0krURntfL4M",
        "outputId": "b3e457fe-cdff-4f32-e1a7-8c8fe56a8adf"
      },
      "execution_count": null,
      "outputs": [
        {
          "output_type": "execute_result",
          "data": {
            "text/plain": [
              "0"
            ]
          },
          "metadata": {},
          "execution_count": 67
        }
      ]
    },
    {
      "cell_type": "code",
      "source": [
        "def feature_extraction(X, average = False):\n",
        "  if average:\n",
        "    size = 50\n",
        "  else:\n",
        "    size =  X.shape[1] * 50\n",
        "  X_new = np.zeros((X.shape[0], size))\n",
        "  keys = word_ids.keys()\n",
        "  for i in range(X.shape[0]):\n",
        "    k = 0\n",
        "    embeds = list()\n",
        "    for word in X[i]:\n",
        "      if word not in keys:\n",
        "        embedding = embeddings[word_ids['<PAD>']]\n",
        "      else:\n",
        "        embedding = embeddings[word_ids[word]]\n",
        "      embeds.append(np.array(embedding))\n",
        "    embeds = np.array(embeds)\n",
        "    if average:\n",
        "      X_new[i] = np.mean(embeds, axis = 0)\n",
        "    else:\n",
        "      X_new[i] = embeds.flatten()\n",
        "  return X_new"
      ],
      "metadata": {
        "id": "yV89kvo0saeh"
      },
      "execution_count": null,
      "outputs": []
    },
    {
      "cell_type": "code",
      "source": [
        "X = np.load(\"/content/drive/MyDrive/Applied Machine Learning/Project Milestone 2/X_test_L.npy\")\n",
        "print(X.shape, X[0])"
      ],
      "metadata": {
        "colab": {
          "base_uri": "https://localhost:8080/"
        },
        "id": "RB_WoA6FfXLq",
        "outputId": "9f58e957-ec8d-4af7-c498-d2ce14e8d859"
      },
      "execution_count": null,
      "outputs": [
        {
          "output_type": "stream",
          "name": "stdout",
          "text": [
            "(6250, 150) ['plot' 'enjoyable' 'mgm' 'musical' 'contrived' 'occasionally' 'amusing'\n",
            " 'dealing' 'espionage' 'romance' 'focus' 'film' 'properly' 'pointed'\n",
            " 'upon' 'tuneful' 'interlude' 'showcasing' 'enormously' 'talented'\n",
            " 'athletic' 'tap' 'dancing' 'eleanor' 'powell' 'abetted' 'tommy' 'dorsey'\n",
            " 'orchestra' 'featuring' 'ziggy' 'elman' 'buddy' 'rich' 'frank' 'sinatra'\n",
            " 'red' 'skelton' 'share' 'top' 'billing' 'powell' 'sidekick' 'bert' 'lahr'\n",
            " 'given' 'comedic' 'minute' 'although' 'skelton' 'effective' 'believed'\n",
            " 'performs' 'powell' 'love' 'interest' 'virginia' 'brien' 'actually'\n",
            " 'providing' 'film' 'humor' 'dancer' 'companion' 'technical' 'brilliance'\n",
            " 'powell' 'evidenced' 'one' 'incredible' 'scene' 'within' 'buddy' 'rich'\n",
            " 'contributes' 'drumming' 'skill' 'must' 'viewed' 'several' 'time' 'order'\n",
            " 'permit' 'one' 'breathing' 'catch' 'precision' 'director' 'edward'\n",
            " 'buzzell' 'utilizes' 'large' 'cast' 'well' 'move' 'action' 'nicely'\n",
            " 'along' 'despite' 'rather' 'disjointed' 'script' 'must' 'deal' 'permit'\n",
            " 'powell' 'cotangent' 'impossibility' 'rule' 'affair' 'appropriate'\n",
            " '<PAD>' '<PAD>' '<PAD>' '<PAD>' '<PAD>' '<PAD>' '<PAD>' '<PAD>' '<PAD>'\n",
            " '<PAD>' '<PAD>' '<PAD>' '<PAD>' '<PAD>' '<PAD>' '<PAD>' '<PAD>' '<PAD>'\n",
            " '<PAD>' '<PAD>' '<PAD>' '<PAD>' '<PAD>' '<PAD>' '<PAD>' '<PAD>' '<PAD>'\n",
            " '<PAD>' '<PAD>' '<PAD>' '<PAD>' '<PAD>' '<PAD>' '<PAD>' '<PAD>' '<PAD>'\n",
            " '<PAD>' '<PAD>' '<PAD>']\n"
          ]
        }
      ]
    },
    {
      "cell_type": "code",
      "source": [
        "del X\n",
        "gc.collect()"
      ],
      "metadata": {
        "colab": {
          "base_uri": "https://localhost:8080/"
        },
        "id": "_cI20TK4ODFB",
        "outputId": "cd8c87fb-2134-4b89-ebfa-ed4591b471f1"
      },
      "execution_count": null,
      "outputs": [
        {
          "output_type": "execute_result",
          "data": {
            "text/plain": [
              "11"
            ]
          },
          "metadata": {},
          "execution_count": 477
        }
      ]
    },
    {
      "cell_type": "code",
      "source": [
        "datasets = [('/content/drive/MyDrive/Applied Machine Learning/Project Milestone 2/X_train_L.npy', True,\n",
        "             '/content/drive/MyDrive/Applied Machine Learning/Project Milestone 2/X_train_LA.npy'\n",
        "             ), (\n",
        "                '/content/drive/MyDrive/Applied Machine Learning/Project Milestone 2/X_train_L.npy', False,\n",
        "             '/content/drive/MyDrive/Applied Machine Learning/Project Milestone 2/X_train_LC.npy'\n",
        "             ),\n",
        "            ('/content/drive/MyDrive/Applied Machine Learning/Project Milestone 2/X_train_S.npy', True,\n",
        "             '/content/drive/MyDrive/Applied Machine Learning/Project Milestone 2/X_train_SA.npy'\n",
        "             ), (\n",
        "                '/content/drive/MyDrive/Applied Machine Learning/Project Milestone 2/X_train_S.npy', False,\n",
        "             '/content/drive/MyDrive/Applied Machine Learning/Project Milestone 2/X_train_SC.npy'\n",
        "             ),\n",
        "\n",
        "            ('/content/drive/MyDrive/Applied Machine Learning/Project Milestone 2/X_val_L.npy', True,\n",
        "             '/content/drive/MyDrive/Applied Machine Learning/Project Milestone 2/X_val_LA.npy'\n",
        "             ), (\n",
        "                '/content/drive/MyDrive/Applied Machine Learning/Project Milestone 2/X_val_L.npy', False,\n",
        "             '/content/drive/MyDrive/Applied Machine Learning/Project Milestone 2/X_val_LC.npy'\n",
        "             ),\n",
        "            ('/content/drive/MyDrive/Applied Machine Learning/Project Milestone 2/X_val_S.npy', True,\n",
        "             '/content/drive/MyDrive/Applied Machine Learning/Project Milestone 2/X_val_SA.npy'\n",
        "             ), (\n",
        "                '/content/drive/MyDrive/Applied Machine Learning/Project Milestone 2/X_val_S.npy', False,\n",
        "             '/content/drive/MyDrive/Applied Machine Learning/Project Milestone 2/X_val_SC.npy'\n",
        "             ),\n",
        "\n",
        "            ('/content/drive/MyDrive/Applied Machine Learning/Project Milestone 2/X_test_L.npy', True,\n",
        "             '/content/drive/MyDrive/Applied Machine Learning/Project Milestone 2/X_test_LA.npy'\n",
        "             ), (\n",
        "                '/content/drive/MyDrive/Applied Machine Learning/Project Milestone 2/X_test_L.npy', False,\n",
        "             '/content/drive/MyDrive/Applied Machine Learning/Project Milestone 2/X_test_LC.npy'\n",
        "             ),\n",
        "            ('/content/drive/MyDrive/Applied Machine Learning/Project Milestone 2/X_test_S.npy', True,\n",
        "             '/content/drive/MyDrive/Applied Machine Learning/Project Milestone 2/X_test_SA.npy'\n",
        "             ), (\n",
        "                '/content/drive/MyDrive/Applied Machine Learning/Project Milestone 2/X_test_S.npy', False,\n",
        "             '/content/drive/MyDrive/Applied Machine Learning/Project Milestone 2/X_test_SC.npy'\n",
        "             ),\n",
        "]"
      ],
      "metadata": {
        "id": "PQsgFvx5hdUi"
      },
      "execution_count": null,
      "outputs": []
    },
    {
      "cell_type": "code",
      "source": [
        "for i in range(len(datasets)):\n",
        "  gc.collect()\n",
        "  X = np.load(datasets[i][0])\n",
        "  X_new = feature_extraction(X, datasets[i][1])\n",
        "  np.save(datasets[i][2], X_new)\n",
        "  del X\n",
        "  del X_new\n",
        "  gc.collect()\n",
        "  print(i + 1)"
      ],
      "metadata": {
        "colab": {
          "base_uri": "https://localhost:8080/"
        },
        "id": "4QVvqte7hsO8",
        "outputId": "d66fb817-6612-4d2b-bf47-5500049565b5"
      },
      "execution_count": null,
      "outputs": [
        {
          "output_type": "stream",
          "name": "stdout",
          "text": [
            "1\n",
            "2\n",
            "3\n",
            "4\n",
            "5\n",
            "6\n",
            "7\n",
            "8\n",
            "9\n",
            "10\n",
            "11\n",
            "12\n"
          ]
        }
      ]
    },
    {
      "cell_type": "code",
      "source": [
        "gc.collect()"
      ],
      "metadata": {
        "colab": {
          "base_uri": "https://localhost:8080/"
        },
        "id": "Up3NQyR8Qra2",
        "outputId": "a682f672-511a-429d-c844-5a6b83efadb5"
      },
      "execution_count": null,
      "outputs": [
        {
          "output_type": "execute_result",
          "data": {
            "text/plain": [
              "0"
            ]
          },
          "metadata": {},
          "execution_count": 481
        }
      ]
    },
    {
      "cell_type": "code",
      "source": [
        "model = LogisticRegression(penalty=\"l2\", max_iter=1000, C=1, random_state=42)"
      ],
      "metadata": {
        "id": "oodVJTCyWn4V"
      },
      "execution_count": null,
      "outputs": []
    },
    {
      "cell_type": "code",
      "source": [
        "X_train = np.load(datasets[3][2])\n",
        "y_train = np.load('/content/drive/MyDrive/Applied Machine Learning/Project Milestone 2/y_train.npy')\n",
        "X_val = np.load(datasets[7][2])\n",
        "y_val = np.load('/content/drive/MyDrive/Applied Machine Learning/Project Milestone 2/y_val.npy')\n",
        "X_test = np.load(datasets[11][2])\n",
        "y_test = np.load('/content/drive/MyDrive/Applied Machine Learning/Project Milestone 2/y_test.npy')"
      ],
      "metadata": {
        "id": "d2-1LmJUmVpl"
      },
      "execution_count": null,
      "outputs": []
    },
    {
      "cell_type": "code",
      "source": [
        "X_train.shape"
      ],
      "metadata": {
        "colab": {
          "base_uri": "https://localhost:8080/"
        },
        "id": "LYQ3e6tf0HwC",
        "outputId": "8c194cac-b1e1-4286-cc9d-f9a492359f5a"
      },
      "execution_count": null,
      "outputs": [
        {
          "output_type": "execute_result",
          "data": {
            "text/plain": [
              "(37500, 50)"
            ]
          },
          "metadata": {},
          "execution_count": 40
        }
      ]
    },
    {
      "cell_type": "code",
      "source": [
        "X_val.shape"
      ],
      "metadata": {
        "colab": {
          "base_uri": "https://localhost:8080/"
        },
        "id": "fVsMt1TCoGHy",
        "outputId": "e1fc6a02-ce80-427c-fa64-2186eb9e71c4"
      },
      "execution_count": null,
      "outputs": [
        {
          "output_type": "execute_result",
          "data": {
            "text/plain": [
              "(6250, 4450)"
            ]
          },
          "metadata": {},
          "execution_count": 73
        }
      ]
    },
    {
      "cell_type": "code",
      "source": [
        "X_test.shape"
      ],
      "metadata": {
        "colab": {
          "base_uri": "https://localhost:8080/"
        },
        "id": "oc8tatL9oIRp",
        "outputId": "b310ea38-fd3d-4418-86cb-775ed13638fb"
      },
      "execution_count": null,
      "outputs": [
        {
          "output_type": "execute_result",
          "data": {
            "text/plain": [
              "(6250, 4450)"
            ]
          },
          "metadata": {},
          "execution_count": 74
        }
      ]
    },
    {
      "cell_type": "code",
      "source": [
        "model.fit(X_train, y_train)\n",
        "y_pred = model.predict(X_val)\n",
        "val_accuracy_score = accuracy_score(y_val, y_pred)\n",
        "print(\"Validation accuracy:\", val_accuracy_score)\n",
        "y_pred = model.predict(X_test)\n",
        "val_accuracy_score = accuracy_score(y_test, y_pred)\n",
        "print(\"Testing accuracy:\", val_accuracy_score)"
      ],
      "metadata": {
        "colab": {
          "base_uri": "https://localhost:8080/"
        },
        "id": "lH7v0jXtnThE",
        "outputId": "841a5245-37db-423b-ab70-7604220829c2"
      },
      "execution_count": null,
      "outputs": [
        {
          "output_type": "stream",
          "name": "stdout",
          "text": [
            "Validation accuracy: 0.74752\n",
            "Testing accuracy: 0.7368\n"
          ]
        }
      ]
    },
    {
      "cell_type": "code",
      "source": [
        "pca = PCA(500)\n",
        "pca.fit(X_train)\n",
        "X_new_train = pca.transform(X_train)\n",
        "X_new_val = pca.transform(X_val)\n",
        "X_new_test = pca.transform(X_test)"
      ],
      "metadata": {
        "id": "X06WGBc8oY6E"
      },
      "execution_count": null,
      "outputs": []
    },
    {
      "cell_type": "code",
      "source": [
        "X_new_val.shape"
      ],
      "metadata": {
        "colab": {
          "base_uri": "https://localhost:8080/"
        },
        "id": "Yjv4k7x_pkLZ",
        "outputId": "a0dcc146-68cd-4ffa-f99a-c795712f5ecc"
      },
      "execution_count": null,
      "outputs": [
        {
          "output_type": "execute_result",
          "data": {
            "text/plain": [
              "(6250, 500)"
            ]
          },
          "metadata": {},
          "execution_count": 77
        }
      ]
    },
    {
      "cell_type": "code",
      "source": [
        "model.fit(X_new_train, y_train)\n",
        "y_pred = model.predict(X_new_val)\n",
        "val_accuracy_score = accuracy_score(y_val, y_pred)\n",
        "print(\"Validation accuracy:\", val_accuracy_score)\n",
        "y_pred = model.predict(X_new_test)\n",
        "val_accuracy_score = accuracy_score(y_test, y_pred)\n",
        "print(\"Testing accuracy:\", val_accuracy_score)"
      ],
      "metadata": {
        "colab": {
          "base_uri": "https://localhost:8080/"
        },
        "id": "fBtJju5apmEM",
        "outputId": "8119850d-efb3-4ce6-c109-baa5b48e8187"
      },
      "execution_count": null,
      "outputs": [
        {
          "output_type": "stream",
          "name": "stdout",
          "text": [
            "Validation accuracy: 0.72\n",
            "Testing accuracy: 0.71008\n"
          ]
        }
      ]
    },
    {
      "cell_type": "markdown",
      "source": [
        "From the above example we see that we can get the same or even better accuracy with just the 500 features after feature reduction through PCA as opposed to the case of 7500 features. Hence, we apply PCA to obtain new datasets such that the case when we concatenated the embeddings, the dimensions are now reduced to 500 instead of 7500"
      ],
      "metadata": {
        "id": "mxWdsZgVsYGM"
      }
    },
    {
      "cell_type": "code",
      "source": [
        "datasets[1][2][:-4] + \"R.npy\""
      ],
      "metadata": {
        "colab": {
          "base_uri": "https://localhost:8080/",
          "height": 36
        },
        "id": "ka-Wxe5BvTf9",
        "outputId": "baf11d82-3960-4e94-a648-bbf38dd14e96"
      },
      "execution_count": null,
      "outputs": [
        {
          "output_type": "execute_result",
          "data": {
            "text/plain": [
              "'/content/drive/MyDrive/Applied Machine Learning/Project Milestone 2/X_train_LCR.npy'"
            ],
            "application/vnd.google.colaboratory.intrinsic+json": {
              "type": "string"
            }
          },
          "metadata": {},
          "execution_count": 5
        }
      ]
    },
    {
      "cell_type": "code",
      "source": [
        "for i in [1, 3]:\n",
        "  gc.collect()\n",
        "  X = np.load(datasets[i][2])\n",
        "  pca = PCA(500)\n",
        "  pca.fit(X)\n",
        "  X_new = pca.transform(X)\n",
        "  np.save(datasets[i][2][:-4] + \"R.npy\", X_new)\n",
        "  X1 = np.load(datasets[i+4][2])\n",
        "  X_new1 = pca.transform(X1)\n",
        "  np.save(datasets[i + 4][2][:-4] + \"R.npy\", X_new1)\n",
        "  X2 = np.load(datasets[i+8][2])\n",
        "  X_new2 = pca.transform(X2)\n",
        "  np.save(datasets[i + 8][2][:-4] + \"R.npy\", X_new2)\n",
        "  del X\n",
        "  del X1\n",
        "  del X2\n",
        "  del X_new\n",
        "  del X_new1\n",
        "  del X_new2\n",
        "  gc.collect()\n",
        "  print(i)"
      ],
      "metadata": {
        "colab": {
          "base_uri": "https://localhost:8080/"
        },
        "id": "UcsSQ2BPs1EJ",
        "outputId": "fba19407-aba0-422b-d42e-b362ae8592ca"
      },
      "execution_count": null,
      "outputs": [
        {
          "output_type": "stream",
          "name": "stdout",
          "text": [
            "1\n",
            "3\n"
          ]
        }
      ]
    },
    {
      "cell_type": "markdown",
      "source": [
        "# Final list of datasets"
      ],
      "metadata": {
        "id": "2R-eh7_pxiiG"
      }
    },
    {
      "cell_type": "code",
      "source": [
        "datasets_train = [\n",
        "    '/content/drive/MyDrive/Applied Machine Learning/Project Milestone 2/X_train_SA.npy',\n",
        "    '/content/drive/MyDrive/Applied Machine Learning/Project Milestone 2/X_train_SCR.npy',\n",
        "    '/content/drive/MyDrive/Applied Machine Learning/Project Milestone 2/X_train_LA.npy',\n",
        "    '/content/drive/MyDrive/Applied Machine Learning/Project Milestone 2/X_train_LCR.npy',\n",
        "]\n",
        "datasets_val = [\n",
        "    '/content/drive/MyDrive/Applied Machine Learning/Project Milestone 2/X_val_SA.npy',\n",
        "    '/content/drive/MyDrive/Applied Machine Learning/Project Milestone 2/X_val_SCR.npy',\n",
        "    '/content/drive/MyDrive/Applied Machine Learning/Project Milestone 2/X_val_LA.npy',\n",
        "    '/content/drive/MyDrive/Applied Machine Learning/Project Milestone 2/X_val_LCR.npy',\n",
        "]\n",
        "datasets_test = [\n",
        "    '/content/drive/MyDrive/Applied Machine Learning/Project Milestone 2/X_test_SA.npy',\n",
        "    '/content/drive/MyDrive/Applied Machine Learning/Project Milestone 2/X_test_SCR.npy',\n",
        "    '/content/drive/MyDrive/Applied Machine Learning/Project Milestone 2/X_test_LA.npy',\n",
        "    '/content/drive/MyDrive/Applied Machine Learning/Project Milestone 2/X_test_LCR.npy',\n",
        "]"
      ],
      "metadata": {
        "id": "PNYJhwwuxiNU"
      },
      "execution_count": null,
      "outputs": []
    },
    {
      "cell_type": "markdown",
      "source": [
        "# Now, we create Adaboost model and train for each possibility. (We have 4 datasets to train on)"
      ],
      "metadata": {
        "id": "vmxVYA5tTOZ5"
      }
    },
    {
      "cell_type": "code",
      "source": [
        "class LRClassifier(torch.nn.Module):\n",
        "\n",
        "  def __init__(self, inputs):\n",
        "    super(LRClassifier, self).__init__()\n",
        "    self.linear = torch.nn.Linear(inputs, 1)\n",
        "\n",
        "  def forward(self, input):\n",
        "    input = input.to(self.linear.weight.dtype)\n",
        "    return F.sigmoid(self.linear(input))\n",
        "\n",
        "class AdaBoostClassifier:\n",
        "\n",
        "    def __init__(self, T, lr, lmbda, optimizer, X_val=None, y_val=None):\n",
        "      self.T = T\n",
        "      self.lr = lr\n",
        "      self.lmbda = lmbda\n",
        "      self.optimizer = optimizer\n",
        "      self.beta_arr_ = list()\n",
        "      self.h_arr_ = list()\n",
        "      self.acc_scores = list()\n",
        "      self.losses = list()\n",
        "      self.X_val = X_val\n",
        "      self.y_val = y_val\n",
        "\n",
        "    def fit_LRClassifier(self, X, y, w, max_iter = 1000):  # X, y is of type tensor\n",
        "      model = LRClassifier(X.size(dim = 1))\n",
        "      # criterion = torch.nn.BCEWithLogitsLoss(weight=w.clone().detach())\n",
        "      criterion = torch.nn.BCELoss(w)\n",
        "      if self.optimizer == 'adam':\n",
        "        opt = torch.optim.Adam(model.parameters(), self.lr, weight_decay=self.lmbda)\n",
        "      else:\n",
        "        opt = torch.optim.SGD(model.parameters(), self.lr, 0.9, weight_decay=self.lmbda)\n",
        "\n",
        "      for iter in range(max_iter):\n",
        "        predictions = model(X)\n",
        "        opt.zero_grad()\n",
        "        predictions = torch.flatten(predictions)\n",
        "        loss = criterion(predictions, y)\n",
        "        loss.backward()\n",
        "        opt.step()\n",
        "      return model\n",
        "\n",
        "    def predict_LRClassifier(self, X, h):\n",
        "      y_hat = torch.flatten(h(X))\n",
        "      y_pred = y_hat.clone()\n",
        "      y_pred[y_pred >= 0.5] = 1\n",
        "      y_pred[y_pred < 0.5] = 0\n",
        "      return y_pred\n",
        "\n",
        "    def predict_proba_LRClassifier(self, X, h):\n",
        "      y_hat = torch.flatten(h(X))\n",
        "      y_pred = y_hat.clone()\n",
        "      # y_pred[y_pred >= 0.5] = 1\n",
        "      # y_pred[y_pred < 0.5] = 0\n",
        "      return y_pred\n",
        "\n",
        "    def calc_loss(self):\n",
        "      # print(self.predict_proba_LRClassifier(self.X_val, self.h_arr_[0]))\n",
        "      y_pred = self.predict_proba(self.X_val)\n",
        "      # print(y_pred)\n",
        "      # print(log_loss(self.y_val, y_pred))\n",
        "      return log_loss(self.y_val, y_pred)\n",
        "\n",
        "    def fit(self, X, y):\n",
        "      N = X.shape[0]\n",
        "      X = torch.Tensor(X)\n",
        "      w = torch.ones(N) / N\n",
        "\n",
        "      y_ = y.copy()\n",
        "      # STUDENT TODO: Update y_ such that the 0's in y_ are replaced by -1\n",
        "      y_ = np.where(y_ == 0, -1, y_)\n",
        "      y = torch.Tensor(y)\n",
        "      y_ = torch.Tensor(y_)\n",
        "      # STUDENT TODO END\n",
        "      print(f\"Training Loop completed:\", end=' ')\n",
        "      for t in range(self.T):\n",
        "          # Fit h to X and y using w as the sample weights\n",
        "          h = self.fit_LRClassifier(X, y, w, 200)\n",
        "\n",
        "          # Obtain the predictions from h and compute epsilon\n",
        "          y_pred = self.predict_LRClassifier(X, h)\n",
        "          epsilon = torch.sum(w[y_pred != y])\n",
        "\n",
        "          # If epsilon > 0.5:\n",
        "          # 1. flip the predictions, i.e., replace 1's with 0's and 0's with 1's\n",
        "          # 2. invert the model (h), i.e., make it predict 1 for what it predicted 0 earlier and vice-versa (clue: think about modifying h.theta_)\n",
        "\n",
        "          # Consider logistic regression in 2d.\n",
        "          # y_hat_1 = 1 if sigmoid(x_1*theta1 + theta2) >= 0.5\n",
        "          # this would also mean,\n",
        "          # exp(x_1*theta1 + theta2) >= 1\n",
        "          # Hence,\n",
        "          # x_1*theta1 + theta2 >= 0\n",
        "          # need to flip this relationship\n",
        "          # so, just multiply -1 on both sides\n",
        "          # hence, x_1*(-theta1) + (-theta2) <= 0\n",
        "          # this would also invert the model\n",
        "\n",
        "          if epsilon > 0.5:\n",
        "            y_pred = torch.where(y_pred == 1, torch.tensor(0), torch.tensor(1))\n",
        "            new_state = copy.deepcopy(h.state_dict())\n",
        "            for key in new_state.keys():\n",
        "              new_state[key] = -new_state[key]\n",
        "            h.load_state_dict(new_state)\n",
        "\n",
        "          # STUDENT TODO END\n",
        "\n",
        "          self.h_arr_.append(h)\n",
        "\n",
        "          if epsilon == 0:\n",
        "              beta = torch.inf\n",
        "              self.beta_arr_.append(beta)\n",
        "              break\n",
        "\n",
        "          # STUDENT TODO: Compute beta\n",
        "          beta = (1 / 2) * (torch.log((1 - epsilon) / epsilon))\n",
        "          # STUDENT TODO END\n",
        "\n",
        "          self.beta_arr_.append(beta)\n",
        "          y_pred_ = y_pred.clone()\n",
        "\n",
        "          # STUDENT TODO:\n",
        "          # Update y_pred_ such that the 0's in y_pred_ are replaced by -1\n",
        "          y_pred_ = torch.where(y_pred_ == 0, torch.tensor(-1), y_pred_)\n",
        "\n",
        "          # Update w and normalize it such that the values in w sum to 1\n",
        "          exp_arr = torch.exp(-beta * (y_ * y_pred_)).detach()\n",
        "          Z_t = torch.sum(w * exp_arr).detach()\n",
        "          w = ((w * exp_arr) / Z_t).detach()\n",
        "          # STUDENT TODO END\n",
        "\n",
        "          if(self.X_val is not None):\n",
        "              self.losses.append(self.calc_loss())\n",
        "              self.acc_scores.append(accuracy_score(y_val, self.predict(self.X_val).detach().numpy()))\n",
        "\n",
        "          print(t, end=' ')\n",
        "\n",
        "    def predict(self, X):\n",
        "      N = X.shape[0]\n",
        "      X = torch.tensor(X)\n",
        "      # Initialize the summation of beta times h for each x_i\n",
        "      sum_beta_times_h = torch.zeros((N,))\n",
        "\n",
        "      for t in range(len(self.h_arr_)):\n",
        "\n",
        "          # STUDENT TODO:\n",
        "          # Obtain the predictions of the t-th model in self.\n",
        "          y_pred_ = self.predict_LRClassifier(X, self.h_arr_[t])\n",
        "          # Replace the 0's in the array with -1\n",
        "          y_pred_ = torch.where(y_pred_ == 0, torch.tensor(-1), y_pred_)\n",
        "          # Update sum_beta_times_h\n",
        "          sum_beta_times_h += (self.beta_arr_[t] * y_pred_)\n",
        "\n",
        "      # Create an array `y_pred` for the final predictions\n",
        "      # Fill 0's and 1's in `y_pred` depending on the sum_beta_time_h value in the corresponding location\n",
        "      y_pred = torch.sign(sum_beta_times_h)\n",
        "      y_pred = torch.where(y_pred == -1, torch.tensor(0), y_pred)\n",
        "\n",
        "      return y_pred\n",
        "\n",
        "    def predict_proba(self, X):\n",
        "      N = X.shape[0]\n",
        "      X = torch.tensor(X)\n",
        "      # Initialize the summation of beta times h for each x_i\n",
        "      sum_beta_times_h = torch.zeros((N,))\n",
        "\n",
        "      for t in range(len(self.h_arr_)):\n",
        "\n",
        "          # STUDENT TODO:\n",
        "          # Obtain the predictions of the t-th model in self.\n",
        "          y_pred_ = self.predict_proba_LRClassifier(X, self.h_arr_[t])\n",
        "          # Update sum_beta_times_h\n",
        "          sum_beta_times_h += (self.beta_arr_[t] * y_pred_)\n",
        "\n",
        "      # Create an array `y_pred` for the final predictions\n",
        "      # Fill 0's and 1's in `y_pred` depending on the sum_beta_time_h value in the corresponding location\n",
        "      # y_pred = torch.sign(sum_beta_times_h)\n",
        "      # y_pred = torch.where(y_pred == -1, torch.tensor(0), y_pred)\n",
        "      mi = torch.min(sum_beta_times_h)\n",
        "      ma = torch.max(sum_beta_times_h)\n",
        "      sum_beta_times_h = (sum_beta_times_h - mi) / (ma - mi)\n",
        "\n",
        "      return sum_beta_times_h.detach().numpy()"
      ],
      "metadata": {
        "id": "BIzOtETfTYcz"
      },
      "execution_count": null,
      "outputs": []
    },
    {
      "cell_type": "code",
      "source": [
        "# m = LRClassifier(5)\n",
        "# for param in m.parameters():\n",
        "#   print(param, torch.norm(param, 2))\n",
        "# print(m.state_dict())\n",
        "# new_state = copy.deepcopy(m.state_dict())\n",
        "# for key, value in new_state.items():\n",
        "#   new_state[key] = -new_state[key]\n",
        "# m.load_state_dict(new_state)\n",
        "# print(m.state_dict())"
      ],
      "metadata": {
        "id": "bY-bSrSLCtQI"
      },
      "execution_count": null,
      "outputs": []
    },
    {
      "cell_type": "code",
      "source": [
        "X_train = np.load(datasets_train[2])\n",
        "y_train = np.load('/content/drive/MyDrive/Applied Machine Learning/Project Milestone 2/y_train.npy')\n",
        "X_val = np.load(datasets_val[2])\n",
        "y_val = np.load('/content/drive/MyDrive/Applied Machine Learning/Project Milestone 2/y_val.npy')\n",
        "X_test = np.load(datasets_test[2])\n",
        "y_test = np.load('/content/drive/MyDrive/Applied Machine Learning/Project Milestone 2/y_test.npy')\n",
        "print(X_train.shape, X_val.shape, X_test.shape)"
      ],
      "metadata": {
        "colab": {
          "base_uri": "https://localhost:8080/"
        },
        "id": "J_XXtNL7630q",
        "outputId": "29541e82-facf-4211-dbbd-2e1c820f9002"
      },
      "execution_count": null,
      "outputs": [
        {
          "output_type": "stream",
          "name": "stdout",
          "text": [
            "(37500, 50) (6250, 50) (6250, 50)\n"
          ]
        }
      ]
    },
    {
      "cell_type": "code",
      "source": [
        "clf3 = LogisticRegression(penalty=None, max_iter=1000, C=1, random_state=42)"
      ],
      "metadata": {
        "id": "Q2GdzfRAXLo0"
      },
      "execution_count": null,
      "outputs": []
    },
    {
      "cell_type": "code",
      "source": [
        "clf3.fit(X_train, y_train)\n",
        "print(classification_report(y_test, clf3.predict(X_test)))\n",
        "print(\"F1-Score_LR:\",f1_score(y_test, clf3.predict(X_test)))"
      ],
      "metadata": {
        "colab": {
          "base_uri": "https://localhost:8080/"
        },
        "id": "VDGICT-GXMzl",
        "outputId": "8b3a6423-544a-44a2-c079-af76cb5c1987"
      },
      "execution_count": null,
      "outputs": [
        {
          "output_type": "stream",
          "name": "stdout",
          "text": [
            "              precision    recall  f1-score   support\n",
            "\n",
            "           0       0.74      0.74      0.74      3128\n",
            "           1       0.74      0.74      0.74      3122\n",
            "\n",
            "    accuracy                           0.74      6250\n",
            "   macro avg       0.74      0.74      0.74      6250\n",
            "weighted avg       0.74      0.74      0.74      6250\n",
            "\n",
            "F1-Score_LR: 0.7401120896717375\n"
          ]
        }
      ]
    },
    {
      "cell_type": "code",
      "source": [
        "CLF_SGD = AdaBoostClassifier(1000,0.1,0,'adam', X_val, y_val)\n",
        "CLF_SGD.fit(X_train, y_train)"
      ],
      "metadata": {
        "colab": {
          "base_uri": "https://localhost:8080/"
        },
        "id": "uDI-wNNaHIDa",
        "outputId": "f09a3361-591b-4ba8-feb4-36a2da7642ae"
      },
      "execution_count": null,
      "outputs": [
        {
          "output_type": "stream",
          "name": "stdout",
          "text": [
            "Training Loop completed: 0 1 2 3 4 5 6 7 8 9 10 11 12 13 14 15 16 17 18 19 20 21 22 23 24 25 26 27 28 29 30 31 32 33 34 35 36 37 38 39 40 41 42 43 44 45 46 47 48 49 50 51 52 53 54 55 56 57 58 59 60 61 62 63 64 65 66 67 68 69 70 71 72 73 74 75 76 77 78 79 80 81 82 83 84 85 86 87 88 89 90 91 92 93 94 95 96 97 98 99 100 101 102 103 104 105 106 107 108 109 110 111 112 113 114 115 116 117 118 119 120 121 122 123 124 125 126 127 128 129 130 131 132 133 134 135 136 137 138 139 140 141 142 143 144 145 146 147 148 149 150 151 152 153 154 155 156 157 158 159 160 161 162 163 164 165 166 167 168 169 170 171 172 173 174 175 176 177 178 179 180 181 182 183 184 185 186 187 188 189 190 191 192 193 194 195 196 197 198 199 200 201 202 203 204 205 206 207 208 209 210 211 212 213 214 215 216 217 218 219 220 221 222 223 224 225 226 227 228 229 230 231 232 233 234 235 236 237 238 239 240 241 242 243 244 245 246 247 248 249 250 251 252 253 254 255 256 257 258 259 260 261 262 263 264 265 266 267 268 269 270 271 272 273 274 275 276 277 278 279 280 281 282 283 284 285 286 287 288 289 290 291 292 293 294 295 296 297 298 299 300 301 302 303 304 305 306 307 308 309 310 311 312 313 314 315 316 317 318 319 320 321 322 323 324 325 326 327 328 329 330 331 332 333 334 335 336 337 338 339 340 341 342 343 344 345 346 347 348 349 350 351 352 353 354 355 356 357 358 359 360 361 362 363 364 365 366 367 368 369 370 371 372 373 374 375 376 377 378 379 380 381 382 383 384 385 386 387 388 389 390 391 392 393 394 395 396 397 398 399 400 401 402 403 404 405 406 407 408 409 410 411 412 413 414 415 416 417 418 419 420 421 422 423 424 425 426 427 428 429 430 431 432 433 434 435 436 437 438 439 440 441 442 443 444 445 446 447 448 449 450 451 452 453 454 455 456 457 458 459 460 461 462 463 464 465 466 467 468 469 470 471 472 473 474 475 476 477 478 479 480 481 482 483 484 485 486 487 488 489 490 491 492 493 494 495 496 497 498 499 500 501 502 503 504 505 506 507 508 509 510 511 512 513 514 515 516 517 518 519 520 521 522 523 524 525 526 527 528 529 530 531 532 533 534 535 536 537 538 539 540 541 542 543 544 545 546 547 548 549 550 551 552 553 554 555 556 557 558 559 560 561 562 563 564 565 566 567 568 569 570 571 572 573 574 575 576 577 578 579 580 581 582 583 584 585 586 587 588 589 590 591 592 593 594 595 596 597 598 599 600 601 602 603 604 605 606 607 608 609 610 611 612 613 614 615 616 617 618 619 620 621 622 623 624 625 626 627 628 629 630 631 632 633 634 635 636 637 638 639 640 641 642 643 644 645 646 647 648 649 650 651 652 653 654 655 656 657 658 659 660 661 662 663 664 665 666 667 668 669 670 671 672 673 674 675 676 677 678 679 680 681 682 683 684 685 686 687 688 689 690 691 692 693 694 695 696 697 698 699 700 701 702 703 704 705 706 707 708 709 710 711 712 713 714 715 716 717 718 719 720 721 722 723 724 725 726 727 728 729 730 731 732 733 734 735 736 737 738 739 740 741 742 743 744 745 746 747 748 749 750 751 752 753 754 755 756 757 758 759 760 761 762 763 764 765 766 767 768 769 770 771 772 773 774 775 776 777 778 779 780 781 782 783 784 785 786 787 788 789 790 791 792 793 794 795 796 797 798 799 800 801 802 803 804 805 806 807 808 809 810 811 812 813 814 815 816 817 818 819 820 821 822 823 824 825 826 827 828 829 830 831 832 833 834 835 836 837 838 839 840 841 842 843 844 845 846 847 848 849 850 851 852 853 854 855 856 857 858 859 860 861 862 863 864 865 866 867 868 869 870 871 872 873 874 875 876 877 878 879 880 881 882 883 884 885 886 887 888 889 890 891 892 893 894 895 896 897 898 899 900 901 902 903 904 905 906 907 908 909 910 911 912 913 914 915 916 917 918 919 920 921 922 923 924 925 926 927 928 929 930 931 932 933 934 935 936 937 938 939 940 941 942 943 944 945 946 947 948 949 950 951 952 953 954 955 956 957 958 959 960 961 962 963 964 965 966 967 968 969 970 971 972 973 974 975 976 977 978 979 980 981 982 983 984 985 986 987 988 989 990 991 992 993 994 995 996 997 998 999 "
          ]
        }
      ]
    },
    {
      "cell_type": "code",
      "source": [
        "print(CLF_SGD.acc_scores)"
      ],
      "metadata": {
        "colab": {
          "base_uri": "https://localhost:8080/"
        },
        "id": "l1cpH5PKJFqE",
        "outputId": "8529192f-70f2-4279-f1dc-f61f8c7f903f"
      },
      "execution_count": null,
      "outputs": [
        {
          "output_type": "stream",
          "name": "stdout",
          "text": [
            "[0.74512, 0.74512, 0.74512, 0.74512, 0.74512, 0.74512, 0.74512, 0.74512, 0.74512, 0.74512, 0.74512, 0.74512, 0.74512, 0.74736, 0.74688, 0.74688, 0.74688, 0.74688, 0.74688, 0.74688, 0.74688, 0.74704, 0.74752, 0.74672, 0.74672, 0.74672, 0.74672, 0.74688, 0.74704, 0.7472, 0.7472, 0.7472, 0.74688, 0.7472, 0.7472, 0.7472, 0.7472, 0.74736, 0.7472, 0.7472, 0.74736, 0.74736, 0.7472, 0.74736, 0.7472, 0.7472, 0.7472, 0.7472, 0.7472, 0.7472, 0.74736, 0.74736, 0.74736, 0.7472, 0.74736, 0.74736, 0.74736, 0.74704, 0.74704, 0.74704, 0.7472, 0.7472, 0.74736, 0.7472, 0.7472, 0.7472, 0.7472, 0.74736, 0.74736, 0.74736, 0.74736, 0.74736, 0.74736, 0.74736, 0.74736, 0.74736, 0.74736, 0.74736, 0.7472, 0.7472, 0.7472, 0.74736, 0.74736, 0.7472, 0.74736, 0.74736, 0.74736, 0.74736, 0.74736, 0.74736, 0.74736, 0.74752, 0.74736, 0.74752, 0.74752, 0.74736, 0.74736, 0.74736, 0.74736, 0.74736, 0.74736, 0.74736, 0.7472, 0.7472, 0.74736, 0.74736, 0.7472, 0.7472, 0.7472, 0.7472, 0.7472, 0.7472, 0.7472, 0.7472, 0.7472, 0.7472, 0.7472, 0.7472, 0.7472, 0.7472, 0.74736, 0.7472, 0.7472, 0.7472, 0.74736, 0.7472, 0.7472, 0.74736, 0.74736, 0.74752, 0.74752, 0.74736, 0.74736, 0.74736, 0.74736, 0.74736, 0.74736, 0.74736, 0.74736, 0.74736, 0.74736, 0.74704, 0.74736, 0.74736, 0.74736, 0.74736, 0.74704, 0.7472, 0.74736, 0.74736, 0.74736, 0.74736, 0.74704, 0.7472, 0.7472, 0.7472, 0.74688, 0.74688, 0.74704, 0.74672, 0.74688, 0.74736, 0.74704, 0.74704, 0.74736, 0.7472, 0.74704, 0.74704, 0.74704, 0.7472, 0.7472, 0.74704, 0.74704, 0.74704, 0.74704, 0.7472, 0.74704, 0.74688, 0.74688, 0.74688, 0.74688, 0.74688, 0.74688, 0.74688, 0.74672, 0.74688, 0.74688, 0.74688, 0.74704, 0.74704, 0.74704, 0.74688, 0.74704, 0.74688, 0.74688, 0.74688, 0.74688, 0.74688, 0.74688, 0.74688, 0.74688, 0.74688, 0.74688, 0.74704, 0.74704, 0.74704, 0.74704, 0.74704, 0.74704, 0.74704, 0.74688, 0.7472, 0.7472, 0.7472, 0.74704, 0.7472, 0.7472, 0.74704, 0.74704, 0.74704, 0.74736, 0.74736, 0.74736, 0.74736, 0.74736, 0.74736, 0.7472, 0.74736, 0.74736, 0.74736, 0.74736, 0.74736, 0.74704, 0.74704, 0.74704, 0.74704, 0.74704, 0.74736, 0.74736, 0.74736, 0.7472, 0.7472, 0.74736, 0.74736, 0.74736, 0.74736, 0.74736, 0.74752, 0.74704, 0.74704, 0.7472, 0.7472, 0.7472, 0.7472, 0.7472, 0.74704, 0.7472, 0.74736, 0.74736, 0.7472, 0.74736, 0.7472, 0.74736, 0.7472, 0.74752, 0.7472, 0.74736, 0.74736, 0.74736, 0.74736, 0.7472, 0.74704, 0.7472, 0.74736, 0.7472, 0.7472, 0.7472, 0.7472, 0.7472, 0.74736, 0.7472, 0.74704, 0.7472, 0.74704, 0.74736, 0.7472, 0.7472, 0.7472, 0.74736, 0.7472, 0.74736, 0.74704, 0.74704, 0.74704, 0.74704, 0.74704, 0.74736, 0.7472, 0.7472, 0.7472, 0.74704, 0.74704, 0.7472, 0.7472, 0.7472, 0.7472, 0.7472, 0.7472, 0.74736, 0.74736, 0.74704, 0.7472, 0.74704, 0.74704, 0.74704, 0.74704, 0.74704, 0.74704, 0.74704, 0.7472, 0.74704, 0.74704, 0.74704, 0.7472, 0.7472, 0.74736, 0.74736, 0.74736, 0.74736, 0.74736, 0.74736, 0.74704, 0.7472, 0.7472, 0.7472, 0.74704, 0.74704, 0.74704, 0.74704, 0.74704, 0.74704, 0.7472, 0.74704, 0.74704, 0.7472, 0.7472, 0.74704, 0.7472, 0.7472, 0.7472, 0.7472, 0.74752, 0.74752, 0.74736, 0.74736, 0.74768, 0.74752, 0.74752, 0.74752, 0.74752, 0.74752, 0.7472, 0.74752, 0.74752, 0.74752, 0.74752, 0.74752, 0.74752, 0.74752, 0.74768, 0.74752, 0.74752, 0.74752, 0.74752, 0.74768, 0.74736, 0.74736, 0.74768, 0.74768, 0.74768, 0.74768, 0.74768, 0.74752, 0.74752, 0.74752, 0.74752, 0.74752, 0.74784, 0.7472, 0.74752, 0.7472, 0.7472, 0.74752, 0.74752, 0.74752, 0.74736, 0.74736, 0.74752, 0.74736, 0.74752, 0.74736, 0.74752, 0.74752, 0.74736, 0.74752, 0.74736, 0.74736, 0.7472, 0.74736, 0.74752, 0.74752, 0.7472, 0.74736, 0.74752, 0.74752, 0.7472, 0.74736, 0.74752, 0.7472, 0.74736, 0.74736, 0.74736, 0.74736, 0.74736, 0.74704, 0.74704, 0.74704, 0.74704, 0.7472, 0.74704, 0.74704, 0.7472, 0.7472, 0.74736, 0.7472, 0.74736, 0.7472, 0.7472, 0.7472, 0.74736, 0.74736, 0.7472, 0.74736, 0.74736, 0.74736, 0.74736, 0.74736, 0.74736, 0.74736, 0.74736, 0.7472, 0.7472, 0.7472, 0.7472, 0.7472, 0.7472, 0.7472, 0.74736, 0.74752, 0.74736, 0.74736, 0.74752, 0.74736, 0.74752, 0.74752, 0.74752, 0.74752, 0.74736, 0.74736, 0.74752, 0.74752, 0.74752, 0.74752, 0.74736, 0.74736, 0.74736, 0.74736, 0.74752, 0.74752, 0.74736, 0.74736, 0.74752, 0.74752, 0.74736, 0.74752, 0.74752, 0.74768, 0.74768, 0.74768, 0.74752, 0.74752, 0.74752, 0.74752, 0.74752, 0.74752, 0.74752, 0.74752, 0.74768, 0.74752, 0.74752, 0.74752, 0.74768, 0.74768, 0.74768, 0.74768, 0.74768, 0.74768, 0.74768, 0.74752, 0.74768, 0.74768, 0.74768, 0.74768, 0.74752, 0.74752, 0.74752, 0.74752, 0.74752, 0.74752, 0.74752, 0.74752, 0.74752, 0.74736, 0.74768, 0.74768, 0.74768, 0.74752, 0.74736, 0.74768, 0.74736, 0.74752, 0.74704, 0.7472, 0.74736, 0.7472, 0.7472, 0.74736, 0.74704, 0.7472, 0.74736, 0.74752, 0.74736, 0.74736, 0.74736, 0.74736, 0.74752, 0.74736, 0.74736, 0.74736, 0.74736, 0.74736, 0.74752, 0.7472, 0.74752, 0.74752, 0.74752, 0.74752, 0.74752, 0.7472, 0.74752, 0.74752, 0.74752, 0.74736, 0.74752, 0.74752, 0.74752, 0.74752, 0.74752, 0.74736, 0.74752, 0.74752, 0.74752, 0.74752, 0.74752, 0.74736, 0.74736, 0.74752, 0.74752, 0.74752, 0.74752, 0.74752, 0.74736, 0.74736, 0.74704, 0.74752, 0.7472, 0.74736, 0.74752, 0.74752, 0.74736, 0.74736, 0.74736, 0.7472, 0.74768, 0.74752, 0.74736, 0.74768, 0.74752, 0.74752, 0.74736, 0.74752, 0.7472, 0.74736, 0.74736, 0.74752, 0.74752, 0.74736, 0.74736, 0.74752, 0.74752, 0.74736, 0.74752, 0.7472, 0.7472, 0.74752, 0.74736, 0.74752, 0.74752, 0.74752, 0.74736, 0.74752, 0.74752, 0.74736, 0.74768, 0.74736, 0.74752, 0.74752, 0.74752, 0.74752, 0.74752, 0.74768, 0.74768, 0.74768, 0.74768, 0.74784, 0.74784, 0.74784, 0.74784, 0.74784, 0.74768, 0.74768, 0.74768, 0.74768, 0.74768, 0.74768, 0.74768, 0.74768, 0.74768, 0.74752, 0.74752, 0.74752, 0.74768, 0.74768, 0.74752, 0.74768, 0.74752, 0.74752, 0.74768, 0.74736, 0.74768, 0.74752, 0.74752, 0.74752, 0.74752, 0.74752, 0.74752, 0.74752, 0.74752, 0.74752, 0.74752, 0.74752, 0.74752, 0.74752, 0.74752, 0.74752, 0.74752, 0.74768, 0.74768, 0.74768, 0.74768, 0.74768, 0.74768, 0.74768, 0.74752, 0.74768, 0.74768, 0.74768, 0.74768, 0.74768, 0.74768, 0.74768, 0.74768, 0.74768, 0.74768, 0.74768, 0.74768, 0.74768, 0.74752, 0.74768, 0.74752, 0.74752, 0.74752, 0.74768, 0.74768, 0.74768, 0.74768, 0.74768, 0.74768, 0.74752, 0.74752, 0.74752, 0.74752, 0.74752, 0.74752, 0.74752, 0.74752, 0.74752, 0.74752, 0.74752, 0.74752, 0.74752, 0.74768, 0.74752, 0.74768, 0.74752, 0.74768, 0.74752, 0.74752, 0.74752, 0.74752, 0.74752, 0.74752, 0.74736, 0.74768, 0.74768, 0.74752, 0.74752, 0.74752, 0.74768, 0.74768, 0.74768, 0.74736, 0.74768, 0.74768, 0.74784, 0.74768, 0.74768, 0.74752, 0.74784, 0.74752, 0.74752, 0.74752, 0.74752, 0.74752, 0.74752, 0.74752, 0.74752, 0.74736, 0.74752, 0.74736, 0.7472, 0.74752, 0.7472, 0.7472, 0.7472, 0.7472, 0.7472, 0.7472, 0.74704, 0.74704, 0.7472, 0.7472, 0.7472, 0.74736, 0.7472, 0.74704, 0.74704, 0.74704, 0.74752, 0.74704, 0.7472, 0.74736, 0.74736, 0.74736, 0.74736, 0.7472, 0.74736, 0.74704, 0.74736, 0.74736, 0.74736, 0.74736, 0.74736, 0.7472, 0.74736, 0.74736, 0.7472, 0.7472, 0.7472, 0.74704, 0.74704, 0.74752, 0.74736, 0.74736, 0.74704, 0.74736, 0.7472, 0.74736, 0.74736, 0.74688, 0.74688, 0.74688, 0.74704, 0.74688, 0.74704, 0.74704, 0.74704, 0.7472, 0.74704, 0.74704, 0.7472, 0.7472, 0.7472, 0.7472, 0.7472, 0.7472, 0.7472, 0.7472, 0.7472, 0.7472, 0.7472, 0.7472, 0.7472, 0.7472, 0.7472, 0.7472, 0.7472, 0.74736, 0.74736, 0.7472, 0.7472, 0.7472, 0.74736, 0.74736, 0.74736, 0.74736, 0.74736, 0.74736, 0.74736, 0.74736, 0.74736, 0.74736, 0.74736, 0.74736, 0.74736, 0.7472, 0.74736, 0.74736, 0.7472, 0.74736, 0.74736, 0.74736, 0.74704, 0.7472, 0.74704, 0.7472, 0.7472, 0.74736, 0.7472, 0.7472, 0.7472, 0.7472, 0.74736, 0.7472, 0.7472, 0.7472, 0.7472, 0.7472, 0.7472, 0.74736, 0.74736, 0.74752, 0.74736, 0.74736, 0.74736, 0.74736, 0.74752, 0.74752, 0.74736, 0.7472, 0.7472, 0.7472, 0.74736, 0.74736, 0.74736, 0.74736, 0.74752, 0.74752, 0.74752, 0.74736, 0.74752, 0.7472, 0.7472, 0.7472, 0.74736, 0.74704, 0.74704, 0.7472, 0.7472, 0.7472, 0.7472, 0.7472, 0.7472, 0.7472, 0.74752, 0.74736, 0.74704, 0.74736, 0.74736, 0.74736, 0.7472, 0.74768, 0.74752, 0.74736, 0.74736, 0.74736, 0.74736, 0.74736, 0.74736, 0.74736, 0.74736, 0.74736, 0.74752, 0.74752, 0.74752, 0.74736, 0.74736, 0.74752, 0.74736, 0.74736, 0.74736, 0.74736, 0.74736, 0.74736, 0.74736, 0.74736, 0.74736, 0.74736, 0.74736, 0.74736, 0.7472, 0.74736, 0.74736, 0.74736, 0.74736, 0.74736, 0.74736, 0.74736, 0.74768, 0.74768, 0.74736, 0.74752, 0.74752, 0.74752, 0.74752, 0.74752, 0.74752, 0.74752, 0.74752, 0.74752, 0.74736, 0.74736, 0.74736, 0.74752, 0.7472, 0.7472, 0.74752, 0.74752, 0.7472, 0.74752, 0.74768, 0.74768, 0.74752, 0.74752, 0.74784, 0.74784, 0.74752, 0.74768, 0.74768, 0.74768, 0.74752, 0.74768, 0.74752, 0.74752, 0.74752, 0.74736, 0.74752, 0.74752, 0.74752, 0.748]\n"
          ]
        }
      ]
    },
    {
      "cell_type": "code",
      "source": [
        "print(f1_score(y_test, CLF_SGD.predict(X_test).detach().numpy()))"
      ],
      "metadata": {
        "colab": {
          "base_uri": "https://localhost:8080/"
        },
        "id": "2Akdcs8cUInR",
        "outputId": "d649e898-6418-4aec-a2bc-cd4cb0d392d3"
      },
      "execution_count": null,
      "outputs": [
        {
          "output_type": "stream",
          "name": "stdout",
          "text": [
            "0.7389493914157591\n"
          ]
        }
      ]
    },
    {
      "cell_type": "code",
      "source": [
        "print(classification_report(y_test, CLF_SGD.predict(X_test).detach().numpy()))"
      ],
      "metadata": {
        "colab": {
          "base_uri": "https://localhost:8080/"
        },
        "id": "NiJ3kpGhU5WU",
        "outputId": "d7b8277b-d642-4c82-cb7c-b0e75cb100e3"
      },
      "execution_count": null,
      "outputs": [
        {
          "output_type": "stream",
          "name": "stdout",
          "text": [
            "              precision    recall  f1-score   support\n",
            "\n",
            "           0       0.48      0.53      0.50      3128\n",
            "           1       0.48      0.43      0.45      3122\n",
            "\n",
            "    accuracy                           0.48      6250\n",
            "   macro avg       0.48      0.48      0.48      6250\n",
            "weighted avg       0.48      0.48      0.48      6250\n",
            "\n"
          ]
        }
      ]
    },
    {
      "cell_type": "code",
      "source": [
        "CLF = AdaBoostClassifier(100,0.01,0,'adam', X_val, y_val)\n",
        "CLF.fit(X_train, y_train)"
      ],
      "metadata": {
        "colab": {
          "base_uri": "https://localhost:8080/"
        },
        "id": "EXTER8WFwFas",
        "outputId": "b0343c0d-2479-4ca7-f556-7d82802fab81"
      },
      "execution_count": null,
      "outputs": [
        {
          "output_type": "stream",
          "name": "stdout",
          "text": [
            "Training Loop completed: 0 1 2 3 4 5 6 7 8 9 10 11 12 13 14 15 16 17 18 19 20 21 22 23 24 25 26 27 28 29 30 31 32 33 34 35 36 37 38 39 40 41 42 43 44 45 46 47 48 49 50 51 52 53 54 55 56 57 58 59 60 61 62 63 64 65 66 67 68 69 70 71 72 73 74 75 76 77 78 79 80 81 82 83 84 85 86 87 88 89 90 91 92 93 94 95 96 97 98 99 "
          ]
        }
      ]
    },
    {
      "cell_type": "code",
      "source": [
        "print(CLF.losses)\n",
        "print(CLF.acc_scores)"
      ],
      "metadata": {
        "colab": {
          "base_uri": "https://localhost:8080/"
        },
        "id": "4q4hKr9K3H-V",
        "outputId": "1b12f50c-3df4-446c-c879-0f3a0acdcd6e"
      },
      "execution_count": null,
      "outputs": [
        {
          "output_type": "stream",
          "name": "stdout",
          "text": [
            "[0.5779077910641544, 0.5774043641215216, 0.5770531793918053, 0.577102846354308, 0.5770644982291563, 0.5770435349525587, 0.5770116727949564, 0.5770114968071485, 0.577017233541019, 0.5770032041078029, 0.5769645417332327, 0.5769803926498865, 0.5770101994203143, 0.576971711984229, 0.5769941104480663, 0.5769695384048018, 0.5769777204971565, 0.5769865543892688, 0.5769826108491496, 0.57698657383798, 0.576985349207467, 0.5769962584737983, 0.5769950108516857, 0.5769900231939847, 0.5769951467563624, 0.5769979340310357, 0.5769781210201776, 0.5769888088080642, 0.5769770546434864, 0.577003182175243, 0.5769981749414066, 0.5770145963961257, 0.5770043640709951, 0.5770059354201599, 0.5770072414061092, 0.5770161137093144, 0.5770098642069705, 0.5769940306451042, 0.5769952882779502, 0.5770036825189468, 0.5769994463896404, 0.576997426797301, 0.5769927398596891, 0.5769931046330354, 0.5769936408290263, 0.5769932519479877, 0.576987488230354, 0.5770018372017984, 0.5769998031382177, 0.5769940100286486, 0.5769927563372445, 0.5769942097182826, 0.5769944303905173, 0.5769955749683879, 0.5769943815896955, 0.5769949502980335, 0.5769993933214131, 0.5770002810755136, 0.5770029264651754, 0.577002498543463, 0.5770045764528675, 0.5770024699855729, 0.5770015411814439, 0.5769987513384817, 0.5770424552154848, 0.577027498355224, 0.5770286047007117, 0.5770088006207778, 0.5770050298708221, 0.5770058052226666, 0.5770049758407108, 0.577004581902792, 0.5770048115277254, 0.5770038331296821, 0.5769857303957416, 0.5770134697553002, 0.5770010247340057, 0.5770011398681152, 0.5770009343252933, 0.5770009982148965, 0.5770004498799605, 0.576999822561977, 0.5770067969665382, 0.5770070335608725, 0.5770084105751822, 0.5770093084729276, 0.5770093085024594, 0.5769964128745844, 0.57699928074023, 0.5770024948297854, 0.5770070565983736, 0.5770064240947449, 0.5770036667929882, 0.5770032592596518, 0.5770001247073541, 0.5769937124925842, 0.576995397398757, 0.5770362611821975, 0.5770149254066481, 0.5770097623876085]\n",
            "[0.72304, 0.72304, 0.72304, 0.72304, 0.72304, 0.72976, 0.72976, 0.7304, 0.73008, 0.73184, 0.73168, 0.73136, 0.7304, 0.73216, 0.7304, 0.73136, 0.73072, 0.7304, 0.72976, 0.73008, 0.73152, 0.7312, 0.7312, 0.73184, 0.73072, 0.73088, 0.7328, 0.73216, 0.73184, 0.73104, 0.73088, 0.72928, 0.73056, 0.73088, 0.73088, 0.73216, 0.732, 0.7312, 0.73136, 0.7312, 0.73168, 0.73056, 0.73056, 0.73088, 0.7312, 0.73104, 0.73104, 0.73104, 0.73104, 0.73056, 0.73008, 0.73008, 0.7296, 0.7304, 0.73008, 0.73008, 0.72912, 0.7304, 0.73136, 0.72976, 0.72912, 0.73136, 0.73088, 0.73152, 0.73008, 0.72992, 0.7312, 0.73056, 0.73104, 0.73104, 0.73024, 0.7304, 0.73056, 0.73088, 0.7304, 0.73088, 0.73104, 0.73056, 0.73024, 0.73088, 0.73056, 0.73088, 0.7312, 0.73024, 0.73024, 0.72944, 0.72992, 0.73056, 0.73008, 0.73008, 0.73008, 0.73008, 0.73088, 0.73088, 0.73008, 0.73008, 0.7304, 0.73088, 0.72992, 0.7304]\n"
          ]
        }
      ]
    },
    {
      "cell_type": "code",
      "source": [
        "plt.plot([x for x in range(100)], CLF.losses)\n",
        "plt.xlabel(\"Number of Weak Learners\")\n",
        "plt.ylabel(\"Loss\")\n",
        "plt.show()"
      ],
      "metadata": {
        "colab": {
          "base_uri": "https://localhost:8080/",
          "height": 449
        },
        "id": "qfrDbTHH3U1T",
        "outputId": "e9faf5f6-40e2-488e-8e4d-d0a1a2cd54a0"
      },
      "execution_count": null,
      "outputs": [
        {
          "output_type": "display_data",
          "data": {
            "text/plain": [
              "<Figure size 640x480 with 1 Axes>"
            ],
            "image/png": "[encoded data removed]"
          },
          "metadata": {}
        }
      ]
    },
    {
      "cell_type": "code",
      "source": [
        "plt.plot([x for x in range(100)], CLF.acc_scores)\n",
        "plt.xlabel(\"Number of Weak Learners\")\n",
        "plt.ylabel(\"Accuracy\")\n",
        "plt.show()"
      ],
      "metadata": {
        "colab": {
          "base_uri": "https://localhost:8080/",
          "height": 449
        },
        "id": "56DnJR-F3mAx",
        "outputId": "553d2f4c-8cdf-4c2b-84fa-e56c25ab29d6"
      },
      "execution_count": null,
      "outputs": [
        {
          "output_type": "display_data",
          "data": {
            "text/plain": [
              "<Figure size 640x480 with 1 Axes>"
            ],
            "image/png": "[encoded data removed]"
          },
          "metadata": {}
        }
      ]
    },
    {
      "cell_type": "code",
      "source": [
        "clf = AdaBoostClassifier(25,0.01,0,'adam')\n",
        "clf2 = xgb.XGBClassifier(n_estimators = 25, max_depth=6, learning_rate = 0.01)\n",
        "clf3 = LogisticRegression(penalty='l2', max_iter=1000, C=1, random_state=42)"
      ],
      "metadata": {
        "id": "y-CgJO4r7V6z"
      },
      "execution_count": null,
      "outputs": []
    },
    {
      "cell_type": "code",
      "source": [
        "# y__ = np.array(y_train)\n",
        "# y_train = [[] for x in range(len(y__))]\n",
        "# for x in range(len(y_train)):\n",
        "#   y_train[x].append(y__[x])\n",
        "# y_train = np.array(y_train)\n",
        "# print(y_train, y_train.shape)"
      ],
      "metadata": {
        "id": "p1c23_XM92pb"
      },
      "execution_count": null,
      "outputs": []
    },
    {
      "cell_type": "code",
      "source": [
        "clf2.fit(X_train, y_train)\n",
        "clf3.fit(X_train, y_train)\n",
        "clf.fit(X_train, y_train)"
      ],
      "metadata": {
        "colab": {
          "base_uri": "https://localhost:8080/"
        },
        "id": "JrQ0_STh7trz",
        "outputId": "62cbd78f-9a10-404b-e43a-8ba3ca8e30c5"
      },
      "execution_count": null,
      "outputs": [
        {
          "output_type": "stream",
          "name": "stdout",
          "text": [
            "Training Loop completed: 0 1 2 3 4 5 6 7 8 9 10 11 12 13 14 15 16 17 18 19 20 21 22 23 24 "
          ]
        }
      ]
    },
    {
      "cell_type": "code",
      "source": [
        "y_pred = clf.predict(X_train).detach()\n",
        "train_accuracy_score = accuracy_score(y_train, y_pred)\n",
        "print(\"AdaBoost Training accuracy:\", train_accuracy_score)\n",
        "y_pred = clf.predict(X_val).detach()\n",
        "val_accuracy_score = accuracy_score(y_val, y_pred)\n",
        "print(\"AdaBoost Validation accuracy:\", val_accuracy_score)\n",
        "y_pred = clf.predict(X_test).detach()\n",
        "test_accuracy_score = accuracy_score(y_test, y_pred)\n",
        "print(\"AdaBoost Testing accuracy:\", test_accuracy_score)"
      ],
      "metadata": {
        "colab": {
          "base_uri": "https://localhost:8080/"
        },
        "id": "1OW_Qn2uLRyA",
        "outputId": "631b4ba8-6eea-4022-bb3f-5253d486d0d9"
      },
      "execution_count": null,
      "outputs": [
        {
          "output_type": "stream",
          "name": "stdout",
          "text": [
            "AdaBoost Training accuracy: 0.7248266666666666\n",
            "AdaBoost Validation accuracy: 0.72032\n",
            "AdaBoost Testing accuracy: 0.71376\n"
          ]
        }
      ]
    },
    {
      "cell_type": "code",
      "source": [
        "y_pred = clf2.predict(X_train)\n",
        "train_accuracy_score = accuracy_score(y_train, y_pred)\n",
        "print(\"XGBoost Training accuracy:\", train_accuracy_score)\n",
        "y_pred = clf2.predict(X_val)\n",
        "val_accuracy_score = accuracy_score(y_val, y_pred)\n",
        "print(\"XGBoost Validation accuracy:\", val_accuracy_score)\n",
        "y_pred = clf2.predict(X_test)\n",
        "test_accuracy_score = accuracy_score(y_test, y_pred)\n",
        "print(\"XGBoost Testing accuracy:\", test_accuracy_score)"
      ],
      "metadata": {
        "colab": {
          "base_uri": "https://localhost:8080/"
        },
        "id": "SocQzkDIXAJ_",
        "outputId": "2174b615-c35c-4407-f416-d553d43eb76f"
      },
      "execution_count": null,
      "outputs": [
        {
          "output_type": "stream",
          "name": "stdout",
          "text": [
            "XGBoost Training accuracy: 0.6671733333333333\n",
            "XGBoost Validation accuracy: 0.6464\n",
            "XGBoost Testing accuracy: 0.63824\n"
          ]
        }
      ]
    },
    {
      "cell_type": "code",
      "source": [
        "y_pred = clf3.predict(X_train)\n",
        "train_accuracy_score = accuracy_score(y_train, y_pred)\n",
        "print(\"Logistic Regression Training accuracy:\", train_accuracy_score)\n",
        "y_pred = clf3.predict(X_val)\n",
        "val_accuracy_score = accuracy_score(y_val, y_pred)\n",
        "print(\"Logistic Regression Validation accuracy:\", val_accuracy_score)\n",
        "y_pred = clf3.predict(X_test)\n",
        "test_accuracy_score = accuracy_score(y_test, y_pred)\n",
        "print(\"Logistic Regression Testing accuracy:\", test_accuracy_score)"
      ],
      "metadata": {
        "colab": {
          "base_uri": "https://localhost:8080/"
        },
        "id": "MVrCDz2-grOl",
        "outputId": "218b7b98-9579-4b38-da2a-7ea5dec4cf28"
      },
      "execution_count": null,
      "outputs": [
        {
          "output_type": "stream",
          "name": "stdout",
          "text": [
            "Logistic Regression Training accuracy: 0.7249066666666667\n",
            "Logistic Regression Validation accuracy: 0.72048\n",
            "Logistic Regression Testing accuracy: 0.71408\n"
          ]
        }
      ]
    },
    {
      "cell_type": "code",
      "source": [
        "y_pred = clf.predict(X_train).detach()\n",
        "train_accuracy_score = classification_report(y_train, y_pred)\n",
        "print(\"AdaBoost Training report:\", train_accuracy_score)\n",
        "y_pred = clf.predict(X_val).detach()\n",
        "val_accuracy_score = classification_report(y_val, y_pred)\n",
        "print(\"AdaBoost Validation report:\", val_accuracy_score)\n",
        "y_pred = clf.predict(X_test).detach()\n",
        "test_accuracy_score = classification_report(y_test, y_pred)\n",
        "print(\"AdaBoost Testing report:\", test_accuracy_score)"
      ],
      "metadata": {
        "colab": {
          "base_uri": "https://localhost:8080/"
        },
        "id": "_aynSLtzXny4",
        "outputId": "4ce14252-db43-4011-a343-705f291a5b5d"
      },
      "execution_count": null,
      "outputs": [
        {
          "output_type": "stream",
          "name": "stdout",
          "text": [
            "AdaBoost Training report:               precision    recall  f1-score   support\n",
            "\n",
            "           0       0.72      0.73      0.73     18843\n",
            "           1       0.72      0.72      0.72     18657\n",
            "\n",
            "    accuracy                           0.72     37500\n",
            "   macro avg       0.72      0.72      0.72     37500\n",
            "weighted avg       0.72      0.72      0.72     37500\n",
            "\n",
            "AdaBoost Validation report:               precision    recall  f1-score   support\n",
            "\n",
            "           0       0.70      0.73      0.72      3029\n",
            "           1       0.74      0.71      0.72      3221\n",
            "\n",
            "    accuracy                           0.72      6250\n",
            "   macro avg       0.72      0.72      0.72      6250\n",
            "weighted avg       0.72      0.72      0.72      6250\n",
            "\n",
            "AdaBoost Testing report:               precision    recall  f1-score   support\n",
            "\n",
            "           0       0.72      0.71      0.71      3128\n",
            "           1       0.71      0.72      0.72      3122\n",
            "\n",
            "    accuracy                           0.71      6250\n",
            "   macro avg       0.71      0.71      0.71      6250\n",
            "weighted avg       0.71      0.71      0.71      6250\n",
            "\n"
          ]
        }
      ]
    },
    {
      "cell_type": "code",
      "source": [
        "y_pred = clf2.predict(X_train)\n",
        "train_accuracy_score = classification_report(y_train, y_pred)\n",
        "print(\"XGBoost Training report:\", train_accuracy_score)\n",
        "y_pred = clf2.predict(X_val)\n",
        "val_accuracy_score = classification_report(y_val, y_pred)\n",
        "print(\"XGBoost Validation report:\", val_accuracy_score)\n",
        "y_pred = clf2.predict(X_test)\n",
        "test_accuracy_score = classification_report(y_test, y_pred)\n",
        "print(\"XGBoost Testing report:\", test_accuracy_score)"
      ],
      "metadata": {
        "colab": {
          "base_uri": "https://localhost:8080/"
        },
        "id": "4rw-pCK3YBGZ",
        "outputId": "62edc32d-2acc-450f-da7e-d74b197437a2"
      },
      "execution_count": null,
      "outputs": [
        {
          "output_type": "stream",
          "name": "stdout",
          "text": [
            "XGBoost Training report:               precision    recall  f1-score   support\n",
            "\n",
            "           0       0.65      0.71      0.68     18843\n",
            "           1       0.68      0.62      0.65     18657\n",
            "\n",
            "    accuracy                           0.67     37500\n",
            "   macro avg       0.67      0.67      0.67     37500\n",
            "weighted avg       0.67      0.67      0.67     37500\n",
            "\n",
            "XGBoost Validation report:               precision    recall  f1-score   support\n",
            "\n",
            "           0       0.62      0.70      0.66      3029\n",
            "           1       0.68      0.60      0.64      3221\n",
            "\n",
            "    accuracy                           0.65      6250\n",
            "   macro avg       0.65      0.65      0.65      6250\n",
            "weighted avg       0.65      0.65      0.65      6250\n",
            "\n",
            "XGBoost Testing report:               precision    recall  f1-score   support\n",
            "\n",
            "           0       0.63      0.69      0.65      3128\n",
            "           1       0.65      0.59      0.62      3122\n",
            "\n",
            "    accuracy                           0.64      6250\n",
            "   macro avg       0.64      0.64      0.64      6250\n",
            "weighted avg       0.64      0.64      0.64      6250\n",
            "\n"
          ]
        }
      ]
    },
    {
      "cell_type": "code",
      "source": [
        "y_pred = clf3.predict(X_train)\n",
        "train_accuracy_score = classification_report(y_train, y_pred)\n",
        "print(\"Logistic Regression Training report:\", train_accuracy_score)\n",
        "y_pred = clf3.predict(X_val)\n",
        "val_accuracy_score = classification_report(y_val, y_pred)\n",
        "print(\"Logistic Regression Validation report:\", val_accuracy_score)\n",
        "y_pred = clf3.predict(X_test)\n",
        "test_accuracy_score = classification_report(y_test, y_pred)\n",
        "print(\"Logistic Regression Testing report:\", test_accuracy_score)"
      ],
      "metadata": {
        "colab": {
          "base_uri": "https://localhost:8080/"
        },
        "id": "5XKvkDw9hEd6",
        "outputId": "04318eb5-5bd5-402c-d406-7d5fbaf524f8"
      },
      "execution_count": null,
      "outputs": [
        {
          "output_type": "stream",
          "name": "stdout",
          "text": [
            "Logistic Regression Training report:               precision    recall  f1-score   support\n",
            "\n",
            "           0       0.73      0.73      0.73     18843\n",
            "           1       0.72      0.72      0.72     18657\n",
            "\n",
            "    accuracy                           0.72     37500\n",
            "   macro avg       0.72      0.72      0.72     37500\n",
            "weighted avg       0.72      0.72      0.72     37500\n",
            "\n",
            "Logistic Regression Validation report:               precision    recall  f1-score   support\n",
            "\n",
            "           0       0.70      0.73      0.72      3029\n",
            "           1       0.74      0.71      0.72      3221\n",
            "\n",
            "    accuracy                           0.72      6250\n",
            "   macro avg       0.72      0.72      0.72      6250\n",
            "weighted avg       0.72      0.72      0.72      6250\n",
            "\n",
            "Logistic Regression Testing report:               precision    recall  f1-score   support\n",
            "\n",
            "           0       0.72      0.71      0.71      3128\n",
            "           1       0.71      0.72      0.72      3122\n",
            "\n",
            "    accuracy                           0.71      6250\n",
            "   macro avg       0.71      0.71      0.71      6250\n",
            "weighted avg       0.71      0.71      0.71      6250\n",
            "\n"
          ]
        }
      ]
    },
    {
      "cell_type": "code",
      "source": [
        "learningRates = [.1,.01,.001]\n",
        "maxIteration = [5, 25, 50]\n",
        "optimizer = [\"adam\", \"SGD\"]\n",
        "y_train = np.load('/content/drive/MyDrive/Applied Machine Learning/Project Milestone 2/y_train.npy')\n",
        "y_val = np.load('/content/drive/MyDrive/Applied Machine Learning/Project Milestone 2/y_val.npy')\n",
        "train_type=[\"SA\", \"SCR\", \"LA\", \"LCR\"]\n",
        "\n",
        "results = []\n",
        "\n",
        "for opt in optimizer:\n",
        "  for epoch in maxIteration:\n",
        "    for lr in learningRates:\n",
        "      for i in range(0, len(datasets_train)):\n",
        "        model = AdaBoostClassifier(epoch,lr,0,opt)\n",
        "        print(\"\")\n",
        "        print(str(opt) + \"_\" + str(epoch) + \"_\" + str(lr) + \"_\" + train_type[i])\n",
        "        train_path = datasets_train[i]\n",
        "        val_path = datasets_val[i]\n",
        "        X_train = np.load(train_path)\n",
        "        X_val = np.load(val_path)\n",
        "\n",
        "        model.fit(X_train, y_train)\n",
        "        y_pred = model.predict(X_val).detach()\n",
        "        f1 = f1_score(y_val, y_pred)\n",
        "\n",
        "        results.append([str(opt) + \"_\" + str(epoch) + \"_\" + str(lr), f1])\n",
        "        torch.save(model, \"/content/drive/MyDrive/Applied Machine Learning/Project Milestone 2/Adaboost_trained_models/\" + str(opt) + \"_\" + str(epoch) + \"_\" + str(lr) + \"_\" + train_type[i])\n",
        "\n"
      ],
      "metadata": {
        "colab": {
          "base_uri": "https://localhost:8080/"
        },
        "id": "YLCgFT8YN_3t",
        "outputId": "82ac02db-6bb8-40ef-9121-9bc1aef35347"
      },
      "execution_count": null,
      "outputs": [
        {
          "output_type": "stream",
          "name": "stdout",
          "text": [
            "\n",
            "adam_5_0.1_SA\n",
            "Training Loop completed: 0 1 2 3 4 \n",
            "adam_5_0.1_SCR\n",
            "Training Loop completed: 0 1 2 3 4 \n",
            "adam_5_0.1_LA\n",
            "Training Loop completed: 0 1 2 3 4 \n",
            "adam_5_0.1_LCR\n",
            "Training Loop completed: 0 1 2 3 4 \n",
            "adam_5_0.01_SA\n",
            "Training Loop completed: 0 1 2 3 4 \n",
            "adam_5_0.01_SCR\n",
            "Training Loop completed: 0 1 2 3 4 \n",
            "adam_5_0.01_LA\n",
            "Training Loop completed: 0 1 2 3 4 \n",
            "adam_5_0.01_LCR\n",
            "Training Loop completed: 0 1 2 3 4 \n",
            "adam_5_0.001_SA\n",
            "Training Loop completed: 0 1 2 3 4 \n",
            "adam_5_0.001_SCR\n",
            "Training Loop completed: 0 1 2 3 4 \n",
            "adam_5_0.001_LA\n",
            "Training Loop completed: 0 1 2 3 4 \n",
            "adam_5_0.001_LCR\n",
            "Training Loop completed: 0 1 2 3 4 \n",
            "adam_25_0.1_SA\n",
            "Training Loop completed: 0 1 2 3 4 5 6 7 8 9 10 11 12 13 14 15 16 17 18 19 20 21 22 23 24 \n",
            "adam_25_0.1_SCR\n",
            "Training Loop completed: 0 1 2 3 4 5 6 7 8 9 10 11 12 13 14 15 16 17 18 19 20 21 22 23 24 \n",
            "adam_25_0.1_LA\n",
            "Training Loop completed: 0 1 2 3 4 5 6 7 8 9 10 11 12 13 14 15 16 17 18 19 20 21 22 23 24 \n",
            "adam_25_0.1_LCR\n",
            "Training Loop completed: 0 1 2 3 4 5 6 7 8 9 10 11 12 13 14 15 16 17 18 19 20 21 22 23 24 \n",
            "adam_25_0.01_SA\n",
            "Training Loop completed: 0 1 2 3 4 5 6 7 8 9 10 11 12 13 14 15 16 17 18 19 20 21 22 23 24 \n",
            "adam_25_0.01_SCR\n",
            "Training Loop completed: 0 1 2 3 4 5 6 7 8 9 10 11 12 13 14 15 16 17 18 19 20 21 22 23 24 \n",
            "adam_25_0.01_LA\n",
            "Training Loop completed: 0 1 2 3 4 5 6 7 8 9 10 11 12 13 14 15 16 17 18 19 20 21 22 23 24 \n",
            "adam_25_0.01_LCR\n",
            "Training Loop completed: 0 1 2 3 4 5 6 7 8 9 10 11 12 13 14 15 16 17 18 19 20 21 22 23 24 \n",
            "adam_25_0.001_SA\n",
            "Training Loop completed: 0 1 2 3 4 5 6 7 8 9 10 11 12 13 14 15 16 17 18 19 20 21 22 23 24 \n",
            "adam_25_0.001_SCR\n",
            "Training Loop completed: 0 1 2 3 4 5 6 7 8 9 10 11 12 13 14 15 16 17 18 19 20 21 22 23 24 \n",
            "adam_25_0.001_LA\n",
            "Training Loop completed: 0 1 2 3 4 5 6 7 8 9 10 11 12 13 14 15 16 17 18 19 20 21 22 23 24 \n",
            "adam_25_0.001_LCR\n",
            "Training Loop completed: 0 1 2 3 4 5 6 7 8 9 10 11 12 13 14 15 16 17 18 19 20 21 22 23 24 \n",
            "adam_50_0.1_SA\n",
            "Training Loop completed: 0 1 2 3 4 5 6 7 8 9 10 11 12 13 14 15 16 17 18 19 20 21 22 23 24 25 26 27 28 29 30 31 32 33 34 35 36 37 38 39 40 41 42 43 44 45 46 47 48 49 \n",
            "adam_50_0.1_SCR\n",
            "Training Loop completed: 0 1 2 3 4 5 6 7 8 9 10 11 12 13 14 15 16 17 18 19 20 21 22 23 24 25 26 27 28 29 30 31 32 33 34 35 36 37 38 39 40 41 42 43 44 45 46 47 48 49 \n",
            "adam_50_0.1_LA\n",
            "Training Loop completed: 0 1 2 3 4 5 6 7 8 9 10 11 12 13 14 15 16 17 18 19 20 21 22 23 24 25 26 27 28 29 30 31 32 33 34 35 36 37 38 39 40 41 42 43 44 45 46 47 48 49 \n",
            "adam_50_0.1_LCR\n",
            "Training Loop completed: 0 1 2 3 4 5 6 7 8 9 10 11 12 13 14 15 16 17 18 19 20 21 22 23 24 25 26 27 28 29 30 31 32 33 34 35 36 37 38 39 40 41 42 43 44 45 46 47 48 49 \n",
            "adam_50_0.01_SA\n",
            "Training Loop completed: 0 1 2 3 4 5 6 7 8 9 10 11 12 13 14 15 16 17 18 19 20 21 22 23 24 25 26 27 28 29 30 31 32 33 34 35 36 37 38 39 40 41 42 43 44 45 46 47 48 49 \n",
            "adam_50_0.01_SCR\n",
            "Training Loop completed: 0 1 2 3 4 5 6 7 8 9 10 11 12 13 14 15 16 17 18 19 20 21 22 23 24 25 26 27 28 29 30 31 32 33 34 35 36 37 38 39 40 41 42 43 44 45 46 47 48 49 \n",
            "adam_50_0.01_LA\n",
            "Training Loop completed: 0 1 2 3 4 5 6 7 8 9 10 11 12 13 14 15 16 17 18 19 20 21 22 23 24 25 26 27 28 29 30 31 32 33 34 35 36 37 38 39 40 41 42 43 44 45 46 47 48 49 \n",
            "adam_50_0.01_LCR\n",
            "Training Loop completed: 0 1 2 3 4 5 6 7 8 9 10 11 12 13 14 15 16 17 18 19 20 21 22 23 24 25 26 27 28 29 30 31 32 33 34 35 36 37 38 39 40 41 42 43 44 45 46 47 48 49 \n",
            "adam_50_0.001_SA\n",
            "Training Loop completed: 0 1 2 3 4 5 6 7 8 9 10 11 12 13 14 15 16 17 18 19 20 21 22 23 24 25 26 27 28 29 30 31 32 33 34 35 36 37 38 39 40 41 42 43 44 45 46 47 48 49 \n",
            "adam_50_0.001_SCR\n",
            "Training Loop completed: 0 1 2 3 4 5 6 7 8 9 10 11 12 13 14 15 16 17 18 19 20 21 22 23 24 25 26 27 28 29 30 31 32 33 34 35 36 37 38 39 40 41 42 43 44 45 46 47 48 49 \n",
            "adam_50_0.001_LA\n",
            "Training Loop completed: 0 1 2 3 4 5 6 7 8 9 10 11 12 13 14 15 16 17 18 19 20 21 22 23 24 25 26 27 28 29 30 31 32 33 34 35 36 37 38 39 40 41 42 43 44 45 46 47 48 49 \n",
            "adam_50_0.001_LCR\n",
            "Training Loop completed: 0 1 2 3 4 5 6 7 8 9 10 11 12 13 14 15 16 17 18 19 20 21 22 23 24 25 26 27 28 29 30 31 32 33 34 35 36 37 38 39 40 41 42 43 44 45 46 47 48 49 \n",
            "SGD_5_0.1_SA\n",
            "Training Loop completed: 0 1 2 3 4 \n",
            "SGD_5_0.1_SCR\n",
            "Training Loop completed: 0 1 2 3 4 \n",
            "SGD_5_0.1_LA\n",
            "Training Loop completed: 0 1 2 3 4 \n",
            "SGD_5_0.1_LCR\n",
            "Training Loop completed: 0 1 2 3 4 \n",
            "SGD_5_0.01_SA\n",
            "Training Loop completed: 0 1 2 3 4 \n",
            "SGD_5_0.01_SCR\n",
            "Training Loop completed: 0 1 2 3 4 \n",
            "SGD_5_0.01_LA\n",
            "Training Loop completed: 0 1 2 3 4 \n",
            "SGD_5_0.01_LCR\n",
            "Training Loop completed: 0 1 2 3 4 \n",
            "SGD_5_0.001_SA\n",
            "Training Loop completed: 0 1 2 3 4 \n",
            "SGD_5_0.001_SCR\n",
            "Training Loop completed: 0 1 2 3 4 \n",
            "SGD_5_0.001_LA\n",
            "Training Loop completed: 0 1 2 3 4 \n",
            "SGD_5_0.001_LCR\n",
            "Training Loop completed: 0 1 2 3 4 \n",
            "SGD_25_0.1_SA\n",
            "Training Loop completed: 0 1 2 3 4 5 6 7 8 9 10 11 12 13 14 15 16 17 18 19 20 21 22 23 24 \n",
            "SGD_25_0.1_SCR\n",
            "Training Loop completed: 0 1 2 3 4 5 6 7 8 9 10 11 12 13 14 15 16 17 18 19 20 21 22 23 24 \n",
            "SGD_25_0.1_LA\n",
            "Training Loop completed: 0 1 2 3 4 5 6 7 8 9 10 11 12 13 14 15 16 17 18 19 20 21 22 23 24 \n",
            "SGD_25_0.1_LCR\n",
            "Training Loop completed: 0 1 2 3 4 5 6 7 8 9 10 11 12 13 14 15 16 17 18 19 20 21 22 23 24 \n",
            "SGD_25_0.01_SA\n",
            "Training Loop completed: 0 1 2 3 4 5 6 7 8 9 10 11 12 13 14 15 16 17 18 19 20 21 22 23 24 \n",
            "SGD_25_0.01_SCR\n",
            "Training Loop completed: 0 1 2 3 4 5 6 7 8 9 10 11 12 13 14 15 16 17 18 19 20 21 22 23 24 \n",
            "SGD_25_0.01_LA\n",
            "Training Loop completed: 0 1 2 3 4 5 6 7 8 9 10 11 12 13 14 15 16 17 18 19 20 21 22 23 24 \n",
            "SGD_25_0.01_LCR\n",
            "Training Loop completed: 0 1 2 3 4 5 6 7 8 9 10 11 12 13 14 15 16 17 18 19 20 21 22 23 24 \n",
            "SGD_25_0.001_SA\n",
            "Training Loop completed: 0 1 2 3 4 5 6 7 8 9 10 11 12 13 14 15 16 17 18 19 20 21 22 23 24 \n",
            "SGD_25_0.001_SCR\n",
            "Training Loop completed: 0 1 2 3 4 5 6 7 8 9 10 11 12 13 14 15 16 17 18 19 20 21 22 23 24 \n",
            "SGD_25_0.001_LA\n",
            "Training Loop completed: 0 1 2 3 4 5 6 7 8 9 10 11 12 13 14 15 16 17 18 19 20 21 22 23 24 \n",
            "SGD_25_0.001_LCR\n",
            "Training Loop completed: 0 1 2 3 4 5 6 7 8 9 10 11 12 13 14 15 16 17 18 19 20 21 22 23 24 \n",
            "SGD_50_0.1_SA\n",
            "Training Loop completed: 0 1 2 3 4 5 6 7 8 9 10 11 12 13 14 15 16 17 18 19 20 21 22 23 24 25 26 27 28 29 30 31 32 33 34 35 36 37 38 39 40 41 42 43 44 45 46 47 48 49 \n",
            "SGD_50_0.1_SCR\n",
            "Training Loop completed: 0 1 2 3 4 5 6 7 8 9 10 11 12 13 14 15 16 17 18 19 20 21 22 23 24 25 26 27 28 29 30 31 32 33 34 35 36 37 38 39 40 41 42 43 44 45 46 47 48 49 \n",
            "SGD_50_0.1_LA\n",
            "Training Loop completed: 0 1 2 3 4 5 6 7 8 9 10 11 12 13 14 15 16 17 18 19 20 21 22 23 24 25 26 27 28 29 30 31 32 33 34 35 36 37 38 39 40 41 42 43 44 45 46 47 48 49 \n",
            "SGD_50_0.1_LCR\n",
            "Training Loop completed: 0 1 2 3 4 5 6 7 8 9 10 11 12 13 14 15 16 17 18 19 20 21 22 23 24 25 26 27 28 29 30 31 32 33 34 35 36 37 38 39 40 41 42 43 44 45 46 47 48 49 \n",
            "SGD_50_0.01_SA\n",
            "Training Loop completed: 0 1 2 3 4 5 6 7 8 9 10 11 12 13 14 15 16 17 18 19 20 21 22 23 24 25 26 27 28 29 30 31 32 33 34 35 36 37 38 39 40 41 42 43 44 45 46 47 48 49 \n",
            "SGD_50_0.01_SCR\n",
            "Training Loop completed: 0 1 2 3 4 5 6 7 8 9 10 11 12 13 14 15 16 17 18 19 20 21 22 23 24 25 26 27 28 29 30 31 32 33 34 35 36 37 38 39 40 41 42 43 44 45 46 47 48 49 \n",
            "SGD_50_0.01_LA\n",
            "Training Loop completed: 0 1 2 3 4 5 6 7 8 9 10 11 12 13 14 15 16 17 18 19 20 21 22 23 24 25 26 27 28 29 30 31 32 33 34 35 36 37 38 39 40 41 42 43 44 45 46 47 48 49 \n",
            "SGD_50_0.01_LCR\n",
            "Training Loop completed: 0 1 2 3 4 5 6 7 8 9 10 11 12 13 14 15 16 17 18 19 20 21 22 23 24 25 26 27 28 29 30 31 32 33 34 35 36 37 38 39 40 41 42 43 44 45 46 47 48 49 \n",
            "SGD_50_0.001_SA\n",
            "Training Loop completed: 0 1 2 3 4 5 6 7 8 9 10 11 12 13 14 15 16 17 18 19 20 21 22 23 24 25 26 27 28 29 30 31 32 33 34 35 36 37 38 39 40 41 42 43 44 45 46 47 48 49 \n",
            "SGD_50_0.001_SCR\n",
            "Training Loop completed: 0 1 2 3 4 5 6 7 8 9 10 11 12 13 14 15 16 17 18 19 20 21 22 23 24 25 26 27 28 29 30 31 32 33 34 35 36 37 38 39 40 41 42 43 44 45 46 47 48 49 \n",
            "SGD_50_0.001_LA\n",
            "Training Loop completed: 0 1 2 3 4 5 6 7 8 9 10 11 12 13 14 15 16 17 18 19 20 21 22 23 24 25 26 27 28 29 30 31 32 33 34 35 36 37 38 39 40 41 42 43 44 45 46 47 48 49 \n",
            "SGD_50_0.001_LCR\n",
            "Training Loop completed: 0 1 2 3 4 5 6 7 8 9 10 11 12 13 14 15 16 17 18 19 20 21 22 23 24 25 26 27 28 29 30 31 32 33 34 35 36 37 38 39 40 41 42 43 44 45 46 47 48 49 "
          ]
        }
      ]
    },
    {
      "cell_type": "code",
      "source": [
        "index = 0\n",
        "for i in range (0, len(results)):\n",
        "  tt = train_type[index]\n",
        "  index = (index + 1) % 4\n",
        "  results[i].append(tt)"
      ],
      "metadata": {
        "id": "YXhsfp8_tR1v"
      },
      "execution_count": null,
      "outputs": []
    },
    {
      "cell_type": "code",
      "source": [
        "np.save(\"/content/drive/MyDrive/Applied Machine Learning/Project Milestone 2/Adaboost_trained_models/F1_Scores.npy\", results)"
      ],
      "metadata": {
        "id": "SgmU1riHrXuD"
      },
      "execution_count": null,
      "outputs": []
    },
    {
      "cell_type": "code",
      "source": [
        "top_f1 = sorted(results, key=lambda tup: tup[1], reverse=True)[:10]"
      ],
      "metadata": {
        "id": "aUtZ2NJIU95Y"
      },
      "execution_count": null,
      "outputs": []
    },
    {
      "cell_type": "code",
      "source": [
        "top_f1"
      ],
      "metadata": {
        "colab": {
          "base_uri": "https://localhost:8080/"
        },
        "id": "HbybO8dCveKI",
        "outputId": "e9cf9d19-a0d5-4023-e265-c4d47eeb0664"
      },
      "execution_count": null,
      "outputs": [
        {
          "output_type": "execute_result",
          "data": {
            "text/plain": [
              "[['adam_25_0.1', 0.7498029323663881, 'LA'],\n",
              " ['adam_50_0.1', 0.749488913351156, 'LA'],\n",
              " ['adam_5_0.1', 0.7484276729559748, 'LA'],\n",
              " ['adam_25_0.01', 0.7416614222781623, 'LA'],\n",
              " ['adam_50_0.1', 0.7394509803921568, 'SA'],\n",
              " ['adam_50_0.01', 0.7386990077177509, 'LA'],\n",
              " ['adam_25_0.1', 0.7370405278039586, 'SA'],\n",
              " ['adam_50_0.001', 0.7355613737871554, 'LA'],\n",
              " ['adam_5_0.1', 0.7354189592831315, 'SA'],\n",
              " ['adam_25_0.001', 0.7331378299120235, 'LA']]"
            ]
          },
          "metadata": {},
          "execution_count": 81
        }
      ]
    },
    {
      "cell_type": "code",
      "source": [
        "train_type={\"SA\": 0, \"SCR\": 1, \"LA\": 2, \"LCR\": 3}\n",
        "y_test = np.load('/content/drive/MyDrive/Applied Machine Learning/Project Milestone 2/y_test.npy')\n",
        "for mod in top_f1:\n",
        "  i = train_type[mod[2]]\n",
        "  test_path = datasets_test[i]\n",
        "  X_test = np.load(test_path)\n",
        "  model = torch.load(\"/content/drive/MyDrive/Applied Machine Learning/Project Milestone 2/Adaboost_trained_models/\" + mod[0] + \"_\" + mod[2])\n",
        "  y_pred = model.predict(X_test).detach()\n",
        "\n",
        "  accuracy = classification_report(y_test, y_pred)\n",
        "  print(mod[0])\n",
        "  print(accuracy)\n",
        "\n"
      ],
      "metadata": {
        "colab": {
          "base_uri": "https://localhost:8080/"
        },
        "id": "mL8xyz_Gvsqw",
        "outputId": "2e444de8-c84f-4d98-d979-09e07b90f67e"
      },
      "execution_count": null,
      "outputs": [
        {
          "output_type": "stream",
          "name": "stdout",
          "text": [
            "adam_25_0.1\n",
            "              precision    recall  f1-score   support\n",
            "\n",
            "           0       0.74      0.74      0.74      3128\n",
            "           1       0.74      0.73      0.74      3122\n",
            "\n",
            "    accuracy                           0.74      6250\n",
            "   macro avg       0.74      0.74      0.74      6250\n",
            "weighted avg       0.74      0.74      0.74      6250\n",
            "\n",
            "adam_50_0.1\n",
            "              precision    recall  f1-score   support\n",
            "\n",
            "           0       0.74      0.74      0.74      3128\n",
            "           1       0.74      0.74      0.74      3122\n",
            "\n",
            "    accuracy                           0.74      6250\n",
            "   macro avg       0.74      0.74      0.74      6250\n",
            "weighted avg       0.74      0.74      0.74      6250\n",
            "\n",
            "adam_5_0.1\n",
            "              precision    recall  f1-score   support\n",
            "\n",
            "           0       0.74      0.74      0.74      3128\n",
            "           1       0.74      0.74      0.74      3122\n",
            "\n",
            "    accuracy                           0.74      6250\n",
            "   macro avg       0.74      0.74      0.74      6250\n",
            "weighted avg       0.74      0.74      0.74      6250\n",
            "\n",
            "adam_25_0.01\n",
            "              precision    recall  f1-score   support\n",
            "\n",
            "           0       0.73      0.73      0.73      3128\n",
            "           1       0.73      0.73      0.73      3122\n",
            "\n",
            "    accuracy                           0.73      6250\n",
            "   macro avg       0.73      0.73      0.73      6250\n",
            "weighted avg       0.73      0.73      0.73      6250\n",
            "\n",
            "adam_50_0.1\n",
            "              precision    recall  f1-score   support\n",
            "\n",
            "           0       0.73      0.72      0.73      3128\n",
            "           1       0.73      0.74      0.73      3122\n",
            "\n",
            "    accuracy                           0.73      6250\n",
            "   macro avg       0.73      0.73      0.73      6250\n",
            "weighted avg       0.73      0.73      0.73      6250\n",
            "\n",
            "adam_50_0.01\n",
            "              precision    recall  f1-score   support\n",
            "\n",
            "           0       0.73      0.72      0.72      3128\n",
            "           1       0.72      0.73      0.73      3122\n",
            "\n",
            "    accuracy                           0.72      6250\n",
            "   macro avg       0.72      0.72      0.72      6250\n",
            "weighted avg       0.72      0.72      0.72      6250\n",
            "\n",
            "adam_25_0.1\n",
            "              precision    recall  f1-score   support\n",
            "\n",
            "           0       0.74      0.73      0.73      3128\n",
            "           1       0.73      0.74      0.73      3122\n",
            "\n",
            "    accuracy                           0.73      6250\n",
            "   macro avg       0.73      0.73      0.73      6250\n",
            "weighted avg       0.73      0.73      0.73      6250\n",
            "\n",
            "adam_50_0.001\n",
            "              precision    recall  f1-score   support\n",
            "\n",
            "           0       0.73      0.70      0.72      3128\n",
            "           1       0.71      0.74      0.73      3122\n",
            "\n",
            "    accuracy                           0.72      6250\n",
            "   macro avg       0.72      0.72      0.72      6250\n",
            "weighted avg       0.72      0.72      0.72      6250\n",
            "\n",
            "adam_5_0.1\n",
            "              precision    recall  f1-score   support\n",
            "\n",
            "           0       0.74      0.73      0.73      3128\n",
            "           1       0.73      0.74      0.74      3122\n",
            "\n",
            "    accuracy                           0.73      6250\n",
            "   macro avg       0.73      0.73      0.73      6250\n",
            "weighted avg       0.73      0.73      0.73      6250\n",
            "\n",
            "adam_25_0.001\n",
            "              precision    recall  f1-score   support\n",
            "\n",
            "           0       0.73      0.69      0.71      3128\n",
            "           1       0.70      0.74      0.72      3122\n",
            "\n",
            "    accuracy                           0.71      6250\n",
            "   macro avg       0.72      0.71      0.71      6250\n",
            "weighted avg       0.72      0.71      0.71      6250\n",
            "\n"
          ]
        }
      ]
    },
    {
      "cell_type": "code",
      "source": [
        "results = np.load(\"/content/drive/MyDrive/Applied Machine Learning/Project Milestone 2/Adaboost_trained_models/F1_Scores.npy\")\n",
        "top_models = sorted(results, key=lambda tup: tup[1], reverse=True)"
      ],
      "metadata": {
        "id": "C_hxUqlZ_KVT"
      },
      "execution_count": null,
      "outputs": []
    },
    {
      "cell_type": "code",
      "source": [
        "y_train = np.load('/content/drive/MyDrive/Applied Machine Learning/Project Milestone 2/y_train.npy')\n",
        "y_val = np.load('/content/drive/MyDrive/Applied Machine Learning/Project Milestone 2/y_val.npy')\n",
        "train_index={\"SA\": 0, \"SCR\": 1, \"LA\": 2, \"LCR\": 3}\n",
        "\n",
        "model_names = []\n",
        "cost = []\n",
        "accuracy = []\n",
        "\n",
        "for i in [0,1,2,3,4,50]:\n",
        "  parameters = top_models[i][0].split(\"_\")\n",
        "  data_type = train_index[top_models[i][2]]\n",
        "  train_path = datasets_train[data_type]\n",
        "  val_path = datasets_val[data_type]\n",
        "  X_train = np.load(train_path)\n",
        "  X_val = np.load(val_path)\n",
        "  model = AdaBoostClassifier(int(parameters[1]),float(parameters[2]),0,parameters[0], X_val, y_val)\n",
        "  model.fit(X_train, y_train)\n",
        "  cost.append(model.losses)\n",
        "  accuracy.append(model.acc_scores)\n",
        "  model_names.append(top_models[i][0].upper())\n"
      ],
      "metadata": {
        "colab": {
          "base_uri": "https://localhost:8080/"
        },
        "id": "TonKDAlK_QAP",
        "outputId": "e66f2bd5-7958-407a-c052-0bc9d9c13bd8"
      },
      "execution_count": null,
      "outputs": [
        {
          "output_type": "stream",
          "name": "stdout",
          "text": [
            "Training Loop completed: 0 1 2 3 4 5 6 7 8 9 10 11 12 13 14 15 16 17 18 19 20 21 22 23 24 Training Loop completed: 0 1 2 3 4 5 6 7 8 9 10 11 12 13 14 15 16 17 18 19 20 21 22 23 24 25 26 27 28 29 30 31 32 33 34 35 36 37 38 39 40 41 42 43 44 45 46 47 48 49 Training Loop completed: 0 1 2 3 4 Training Loop completed: 0 1 2 3 4 5 6 7 8 9 10 11 12 13 14 15 16 17 18 19 20 21 22 23 24 Training Loop completed: 0 1 2 3 4 5 6 7 8 9 10 11 12 13 14 15 16 17 18 19 20 21 22 23 24 25 26 27 28 29 30 31 32 33 34 35 36 37 38 39 40 41 42 43 44 45 46 47 48 49 Training Loop completed: 0 1 2 3 4 5 6 7 8 9 10 11 12 13 14 15 16 17 18 19 20 21 22 23 24 25 26 27 28 29 30 31 32 33 34 35 36 37 38 39 40 41 42 43 44 45 46 47 48 49 "
          ]
        }
      ]
    },
    {
      "cell_type": "code",
      "source": [
        "# Plot without SGD\n",
        "fig, ax = plt.subplots()\n",
        "\n",
        "for i in range(0, len(model_names)-1):\n",
        "  c = cost[i]\n",
        "  iterations = np.arange(0, len(c))\n",
        "  ax.plot(iterations, c, linestyle='solid', label = model_names[i])\n",
        "\n",
        "ax.legend(title=\"Model Type\", loc=\"upper left\", bbox_to_anchor=(1, 0.5))\n",
        "\n",
        "ax.set_xlabel(\"Epoch\")\n",
        "ax.set_ylabel(\"Cost\")\n",
        "plt.grid(alpha=0.5)\n",
        "fig.set_size_inches(12, 6)\n",
        "plt.title(\"Cost versus Epoch by Model\")\n",
        "plt.show()\n",
        "\n",
        "# Plot with SGD\n",
        "fig, ax = plt.subplots()\n",
        "\n",
        "for i in range(0, len(model_names)):\n",
        "  c = cost[i]\n",
        "  iterations = np.arange(0, len(c))\n",
        "  ax.plot(iterations, c, linestyle='solid', label = model_names[i])\n",
        "\n",
        "ax.legend(title=\"Model Type\", loc=\"upper left\", bbox_to_anchor=(1, 0.5))\n",
        "\n",
        "ax.set_xlabel(\"Epoch\")\n",
        "ax.set_ylabel(\"Cost\")\n",
        "plt.grid(alpha=0.5)\n",
        "fig.set_size_inches(12, 6)\n",
        "plt.title(\"Cost versus Epoch by Model\")\n",
        "plt.show()"
      ],
      "metadata": {
        "colab": {
          "base_uri": "https://localhost:8080/",
          "height": 1000
        },
        "id": "GUEQLcpUcBpV",
        "outputId": "1e9d79ae-4630-4d7c-fa79-bc521d8dc814"
      },
      "execution_count": null,
      "outputs": [
        {
          "output_type": "display_data",
          "data": {
            "text/plain": [
              "<Figure size 1200x600 with 1 Axes>"
            ],
            "image/png": "[encoded data removed]"
          },
          "metadata": {}
        },
        {
          "output_type": "display_data",
          "data": {
            "text/plain": [
              "<Figure size 1200x600 with 1 Axes>"
            ],
            "image/png": "[encoded data removed]"
          },
          "metadata": {}
        }
      ]
    },
    {
      "cell_type": "code",
      "source": [
        "# Plot without SGD\n",
        "fig, ax = plt.subplots()\n",
        "\n",
        "for i in range(0, len(model_names)-1):\n",
        "  c = accuracy[i]\n",
        "  iterations = np.arange(0, len(c))\n",
        "  ax.plot(iterations, c, linestyle='solid', label = model_names[i])\n",
        "\n",
        "ax.legend(title=\"Model Type\", loc=\"upper left\", bbox_to_anchor=(1, 0.5))\n",
        "\n",
        "ax.set_xlabel(\"Epoch\")\n",
        "ax.set_ylabel(\"Accuracy\")\n",
        "plt.grid(alpha=0.5)\n",
        "fig.set_size_inches(12, 6)\n",
        "plt.title(\"Accuracy versus Epoch by Model\")\n",
        "plt.show()\n",
        "\n",
        "# Plot with SGD\n",
        "fig, ax = plt.subplots()\n",
        "\n",
        "for i in range(0, len(model_names)):\n",
        "  c = accuracy[i]\n",
        "  iterations = np.arange(0, len(c))\n",
        "  ax.plot(iterations, c, linestyle='solid', label = model_names[i])\n",
        "\n",
        "ax.legend(title=\"Model Type\", loc=\"upper left\", bbox_to_anchor=(1, 0.5))\n",
        "\n",
        "ax.set_xlabel(\"Epoch\")\n",
        "ax.set_ylabel(\"Accuracy\")\n",
        "plt.grid(alpha=0.5)\n",
        "fig.set_size_inches(12, 6)\n",
        "plt.title(\"Accuracy versus Epoch by Model\")\n",
        "plt.show()"
      ],
      "metadata": {
        "colab": {
          "base_uri": "https://localhost:8080/",
          "height": 1000
        },
        "id": "aVl1ZFLbhDle",
        "outputId": "07e110fe-48fa-49c6-948d-7f6c634e4ae1"
      },
      "execution_count": null,
      "outputs": [
        {
          "output_type": "display_data",
          "data": {
            "text/plain": [
              "<Figure size 1200x600 with 1 Axes>"
            ],
            "image/png": "[encoded data removed]"
          },
          "metadata": {}
        },
        {
          "output_type": "display_data",
          "data": {
            "text/plain": [
              "<Figure size 1200x600 with 1 Axes>"
            ],
            "image/png": "[encoded data removed]"
          },
          "metadata": {}
        }
      ]
    }
  ],
  "metadata": {
    "colab": {
      "provenance": []
    },
    "kernelspec": {
      "display_name": "Python 3",
      "name": "python3"
    },
    "language_info": {
      "name": "python"
    }
  },
  "nbformat": 4,
  "nbformat_minor": 0
}
